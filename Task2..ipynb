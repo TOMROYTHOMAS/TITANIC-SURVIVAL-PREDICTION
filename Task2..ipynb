{
 "cells": [
  {
   "cell_type": "code",
   "execution_count": 2,
   "id": "adbb1b9f",
   "metadata": {
    "execution": {
     "iopub.execute_input": "2023-11-06T18:41:37.054697Z",
     "iopub.status.busy": "2023-11-06T18:41:37.053643Z",
     "iopub.status.idle": "2023-11-06T18:41:40.932520Z",
     "shell.execute_reply": "2023-11-06T18:41:40.931440Z"
    },
    "papermill": {
     "duration": 3.917739,
     "end_time": "2023-11-06T18:41:40.935423",
     "exception": false,
     "start_time": "2023-11-06T18:41:37.017684",
     "status": "completed"
    },
    "tags": []
   },
   "outputs": [
    {
     "name": "stdout",
     "output_type": "stream",
     "text": [
      "5.18.0\n"
     ]
    }
   ],
   "source": [
    "import pandas as pd\n",
    "import numpy as np\n",
    "import plotly as px\n",
    "import plotly.graph_objects as go\n",
    "import plotly.figure_factory as ff\n",
    "import warnings\n",
    "import colorama as c\n",
    "from IPython.display import Image\n",
    "import plotly\n",
    "print(plotly.__version__)\n",
    "import plotly.express as px\n",
    "import matplotlib.pyplot as plt\n",
    "import seaborn as sns"
   ]
  },
  {
   "cell_type": "code",
   "execution_count": 3,
   "id": "bf6565de",
   "metadata": {
    "execution": {
     "iopub.execute_input": "2023-11-06T18:41:40.995864Z",
     "iopub.status.busy": "2023-11-06T18:41:40.994716Z",
     "iopub.status.idle": "2023-11-06T18:41:41.072725Z",
     "shell.execute_reply": "2023-11-06T18:41:41.071252Z"
    },
    "papermill": {
     "duration": 0.112045,
     "end_time": "2023-11-06T18:41:41.076153",
     "exception": false,
     "start_time": "2023-11-06T18:41:40.964108",
     "status": "completed"
    },
    "tags": []
   },
   "outputs": [
    {
     "data": {
      "text/html": [
       "<div>\n",
       "<style scoped>\n",
       "    .dataframe tbody tr th:only-of-type {\n",
       "        vertical-align: middle;\n",
       "    }\n",
       "\n",
       "    .dataframe tbody tr th {\n",
       "        vertical-align: top;\n",
       "    }\n",
       "\n",
       "    .dataframe thead th {\n",
       "        text-align: right;\n",
       "    }\n",
       "</style>\n",
       "<table border=\"1\" class=\"dataframe\">\n",
       "  <thead>\n",
       "    <tr style=\"text-align: right;\">\n",
       "      <th></th>\n",
       "      <th>PassengerId</th>\n",
       "      <th>Survived</th>\n",
       "      <th>Pclass</th>\n",
       "      <th>Name</th>\n",
       "      <th>Sex</th>\n",
       "      <th>Age</th>\n",
       "      <th>SibSp</th>\n",
       "      <th>Parch</th>\n",
       "      <th>Ticket</th>\n",
       "      <th>Fare</th>\n",
       "      <th>Cabin</th>\n",
       "      <th>Embarked</th>\n",
       "    </tr>\n",
       "  </thead>\n",
       "  <tbody>\n",
       "    <tr>\n",
       "      <th>0</th>\n",
       "      <td>892</td>\n",
       "      <td>0</td>\n",
       "      <td>3</td>\n",
       "      <td>Kelly, Mr. James</td>\n",
       "      <td>male</td>\n",
       "      <td>34.5</td>\n",
       "      <td>0</td>\n",
       "      <td>0</td>\n",
       "      <td>330911</td>\n",
       "      <td>7.8292</td>\n",
       "      <td>NaN</td>\n",
       "      <td>Q</td>\n",
       "    </tr>\n",
       "    <tr>\n",
       "      <th>1</th>\n",
       "      <td>893</td>\n",
       "      <td>1</td>\n",
       "      <td>3</td>\n",
       "      <td>Wilkes, Mrs. James (Ellen Needs)</td>\n",
       "      <td>female</td>\n",
       "      <td>47.0</td>\n",
       "      <td>1</td>\n",
       "      <td>0</td>\n",
       "      <td>363272</td>\n",
       "      <td>7.0000</td>\n",
       "      <td>NaN</td>\n",
       "      <td>S</td>\n",
       "    </tr>\n",
       "    <tr>\n",
       "      <th>2</th>\n",
       "      <td>894</td>\n",
       "      <td>0</td>\n",
       "      <td>2</td>\n",
       "      <td>Myles, Mr. Thomas Francis</td>\n",
       "      <td>male</td>\n",
       "      <td>62.0</td>\n",
       "      <td>0</td>\n",
       "      <td>0</td>\n",
       "      <td>240276</td>\n",
       "      <td>9.6875</td>\n",
       "      <td>NaN</td>\n",
       "      <td>Q</td>\n",
       "    </tr>\n",
       "    <tr>\n",
       "      <th>3</th>\n",
       "      <td>895</td>\n",
       "      <td>0</td>\n",
       "      <td>3</td>\n",
       "      <td>Wirz, Mr. Albert</td>\n",
       "      <td>male</td>\n",
       "      <td>27.0</td>\n",
       "      <td>0</td>\n",
       "      <td>0</td>\n",
       "      <td>315154</td>\n",
       "      <td>8.6625</td>\n",
       "      <td>NaN</td>\n",
       "      <td>S</td>\n",
       "    </tr>\n",
       "    <tr>\n",
       "      <th>4</th>\n",
       "      <td>896</td>\n",
       "      <td>1</td>\n",
       "      <td>3</td>\n",
       "      <td>Hirvonen, Mrs. Alexander (Helga E Lindqvist)</td>\n",
       "      <td>female</td>\n",
       "      <td>22.0</td>\n",
       "      <td>1</td>\n",
       "      <td>1</td>\n",
       "      <td>3101298</td>\n",
       "      <td>12.2875</td>\n",
       "      <td>NaN</td>\n",
       "      <td>S</td>\n",
       "    </tr>\n",
       "    <tr>\n",
       "      <th>...</th>\n",
       "      <td>...</td>\n",
       "      <td>...</td>\n",
       "      <td>...</td>\n",
       "      <td>...</td>\n",
       "      <td>...</td>\n",
       "      <td>...</td>\n",
       "      <td>...</td>\n",
       "      <td>...</td>\n",
       "      <td>...</td>\n",
       "      <td>...</td>\n",
       "      <td>...</td>\n",
       "      <td>...</td>\n",
       "    </tr>\n",
       "    <tr>\n",
       "      <th>413</th>\n",
       "      <td>1305</td>\n",
       "      <td>0</td>\n",
       "      <td>3</td>\n",
       "      <td>Spector, Mr. Woolf</td>\n",
       "      <td>male</td>\n",
       "      <td>NaN</td>\n",
       "      <td>0</td>\n",
       "      <td>0</td>\n",
       "      <td>A.5. 3236</td>\n",
       "      <td>8.0500</td>\n",
       "      <td>NaN</td>\n",
       "      <td>S</td>\n",
       "    </tr>\n",
       "    <tr>\n",
       "      <th>414</th>\n",
       "      <td>1306</td>\n",
       "      <td>1</td>\n",
       "      <td>1</td>\n",
       "      <td>Oliva y Ocana, Dona. Fermina</td>\n",
       "      <td>female</td>\n",
       "      <td>39.0</td>\n",
       "      <td>0</td>\n",
       "      <td>0</td>\n",
       "      <td>PC 17758</td>\n",
       "      <td>108.9000</td>\n",
       "      <td>C105</td>\n",
       "      <td>C</td>\n",
       "    </tr>\n",
       "    <tr>\n",
       "      <th>415</th>\n",
       "      <td>1307</td>\n",
       "      <td>0</td>\n",
       "      <td>3</td>\n",
       "      <td>Saether, Mr. Simon Sivertsen</td>\n",
       "      <td>male</td>\n",
       "      <td>38.5</td>\n",
       "      <td>0</td>\n",
       "      <td>0</td>\n",
       "      <td>SOTON/O.Q. 3101262</td>\n",
       "      <td>7.2500</td>\n",
       "      <td>NaN</td>\n",
       "      <td>S</td>\n",
       "    </tr>\n",
       "    <tr>\n",
       "      <th>416</th>\n",
       "      <td>1308</td>\n",
       "      <td>0</td>\n",
       "      <td>3</td>\n",
       "      <td>Ware, Mr. Frederick</td>\n",
       "      <td>male</td>\n",
       "      <td>NaN</td>\n",
       "      <td>0</td>\n",
       "      <td>0</td>\n",
       "      <td>359309</td>\n",
       "      <td>8.0500</td>\n",
       "      <td>NaN</td>\n",
       "      <td>S</td>\n",
       "    </tr>\n",
       "    <tr>\n",
       "      <th>417</th>\n",
       "      <td>1309</td>\n",
       "      <td>0</td>\n",
       "      <td>3</td>\n",
       "      <td>Peter, Master. Michael J</td>\n",
       "      <td>male</td>\n",
       "      <td>NaN</td>\n",
       "      <td>1</td>\n",
       "      <td>1</td>\n",
       "      <td>2668</td>\n",
       "      <td>22.3583</td>\n",
       "      <td>NaN</td>\n",
       "      <td>C</td>\n",
       "    </tr>\n",
       "  </tbody>\n",
       "</table>\n",
       "<p>418 rows × 12 columns</p>\n",
       "</div>"
      ],
      "text/plain": [
       "     PassengerId  Survived  Pclass   \n",
       "0            892         0       3  \\\n",
       "1            893         1       3   \n",
       "2            894         0       2   \n",
       "3            895         0       3   \n",
       "4            896         1       3   \n",
       "..           ...       ...     ...   \n",
       "413         1305         0       3   \n",
       "414         1306         1       1   \n",
       "415         1307         0       3   \n",
       "416         1308         0       3   \n",
       "417         1309         0       3   \n",
       "\n",
       "                                             Name     Sex   Age  SibSp  Parch   \n",
       "0                                Kelly, Mr. James    male  34.5      0      0  \\\n",
       "1                Wilkes, Mrs. James (Ellen Needs)  female  47.0      1      0   \n",
       "2                       Myles, Mr. Thomas Francis    male  62.0      0      0   \n",
       "3                                Wirz, Mr. Albert    male  27.0      0      0   \n",
       "4    Hirvonen, Mrs. Alexander (Helga E Lindqvist)  female  22.0      1      1   \n",
       "..                                            ...     ...   ...    ...    ...   \n",
       "413                            Spector, Mr. Woolf    male   NaN      0      0   \n",
       "414                  Oliva y Ocana, Dona. Fermina  female  39.0      0      0   \n",
       "415                  Saether, Mr. Simon Sivertsen    male  38.5      0      0   \n",
       "416                           Ware, Mr. Frederick    male   NaN      0      0   \n",
       "417                      Peter, Master. Michael J    male   NaN      1      1   \n",
       "\n",
       "                 Ticket      Fare Cabin Embarked  \n",
       "0                330911    7.8292   NaN        Q  \n",
       "1                363272    7.0000   NaN        S  \n",
       "2                240276    9.6875   NaN        Q  \n",
       "3                315154    8.6625   NaN        S  \n",
       "4               3101298   12.2875   NaN        S  \n",
       "..                  ...       ...   ...      ...  \n",
       "413           A.5. 3236    8.0500   NaN        S  \n",
       "414            PC 17758  108.9000  C105        C  \n",
       "415  SOTON/O.Q. 3101262    7.2500   NaN        S  \n",
       "416              359309    8.0500   NaN        S  \n",
       "417                2668   22.3583   NaN        C  \n",
       "\n",
       "[418 rows x 12 columns]"
      ]
     },
     "execution_count": 3,
     "metadata": {},
     "output_type": "execute_result"
    }
   ],
   "source": [
    "df = pd.read_csv('D:/internships/codeclause/tested.csv')\n",
    "df"
   ]
  },
  {
   "cell_type": "code",
   "execution_count": 4,
   "id": "0464d459",
   "metadata": {
    "execution": {
     "iopub.execute_input": "2023-11-06T18:41:41.140865Z",
     "iopub.status.busy": "2023-11-06T18:41:41.140318Z",
     "iopub.status.idle": "2023-11-06T18:41:41.161796Z",
     "shell.execute_reply": "2023-11-06T18:41:41.160972Z"
    },
    "papermill": {
     "duration": 0.057047,
     "end_time": "2023-11-06T18:41:41.164185",
     "exception": false,
     "start_time": "2023-11-06T18:41:41.107138",
     "status": "completed"
    },
    "tags": []
   },
   "outputs": [
    {
     "data": {
      "text/html": [
       "<div>\n",
       "<style scoped>\n",
       "    .dataframe tbody tr th:only-of-type {\n",
       "        vertical-align: middle;\n",
       "    }\n",
       "\n",
       "    .dataframe tbody tr th {\n",
       "        vertical-align: top;\n",
       "    }\n",
       "\n",
       "    .dataframe thead th {\n",
       "        text-align: right;\n",
       "    }\n",
       "</style>\n",
       "<table border=\"1\" class=\"dataframe\">\n",
       "  <thead>\n",
       "    <tr style=\"text-align: right;\">\n",
       "      <th></th>\n",
       "      <th>PassengerId</th>\n",
       "      <th>Survived</th>\n",
       "      <th>Pclass</th>\n",
       "      <th>Name</th>\n",
       "      <th>Sex</th>\n",
       "      <th>Age</th>\n",
       "      <th>SibSp</th>\n",
       "      <th>Parch</th>\n",
       "      <th>Ticket</th>\n",
       "      <th>Fare</th>\n",
       "      <th>Cabin</th>\n",
       "      <th>Embarked</th>\n",
       "    </tr>\n",
       "  </thead>\n",
       "  <tbody>\n",
       "    <tr>\n",
       "      <th>0</th>\n",
       "      <td>892</td>\n",
       "      <td>0</td>\n",
       "      <td>3</td>\n",
       "      <td>Kelly, Mr. James</td>\n",
       "      <td>male</td>\n",
       "      <td>34.5</td>\n",
       "      <td>0</td>\n",
       "      <td>0</td>\n",
       "      <td>330911</td>\n",
       "      <td>7.8292</td>\n",
       "      <td>NaN</td>\n",
       "      <td>Q</td>\n",
       "    </tr>\n",
       "    <tr>\n",
       "      <th>1</th>\n",
       "      <td>893</td>\n",
       "      <td>1</td>\n",
       "      <td>3</td>\n",
       "      <td>Wilkes, Mrs. James (Ellen Needs)</td>\n",
       "      <td>female</td>\n",
       "      <td>47.0</td>\n",
       "      <td>1</td>\n",
       "      <td>0</td>\n",
       "      <td>363272</td>\n",
       "      <td>7.0000</td>\n",
       "      <td>NaN</td>\n",
       "      <td>S</td>\n",
       "    </tr>\n",
       "    <tr>\n",
       "      <th>2</th>\n",
       "      <td>894</td>\n",
       "      <td>0</td>\n",
       "      <td>2</td>\n",
       "      <td>Myles, Mr. Thomas Francis</td>\n",
       "      <td>male</td>\n",
       "      <td>62.0</td>\n",
       "      <td>0</td>\n",
       "      <td>0</td>\n",
       "      <td>240276</td>\n",
       "      <td>9.6875</td>\n",
       "      <td>NaN</td>\n",
       "      <td>Q</td>\n",
       "    </tr>\n",
       "    <tr>\n",
       "      <th>3</th>\n",
       "      <td>895</td>\n",
       "      <td>0</td>\n",
       "      <td>3</td>\n",
       "      <td>Wirz, Mr. Albert</td>\n",
       "      <td>male</td>\n",
       "      <td>27.0</td>\n",
       "      <td>0</td>\n",
       "      <td>0</td>\n",
       "      <td>315154</td>\n",
       "      <td>8.6625</td>\n",
       "      <td>NaN</td>\n",
       "      <td>S</td>\n",
       "    </tr>\n",
       "    <tr>\n",
       "      <th>4</th>\n",
       "      <td>896</td>\n",
       "      <td>1</td>\n",
       "      <td>3</td>\n",
       "      <td>Hirvonen, Mrs. Alexander (Helga E Lindqvist)</td>\n",
       "      <td>female</td>\n",
       "      <td>22.0</td>\n",
       "      <td>1</td>\n",
       "      <td>1</td>\n",
       "      <td>3101298</td>\n",
       "      <td>12.2875</td>\n",
       "      <td>NaN</td>\n",
       "      <td>S</td>\n",
       "    </tr>\n",
       "    <tr>\n",
       "      <th>5</th>\n",
       "      <td>897</td>\n",
       "      <td>0</td>\n",
       "      <td>3</td>\n",
       "      <td>Svensson, Mr. Johan Cervin</td>\n",
       "      <td>male</td>\n",
       "      <td>14.0</td>\n",
       "      <td>0</td>\n",
       "      <td>0</td>\n",
       "      <td>7538</td>\n",
       "      <td>9.2250</td>\n",
       "      <td>NaN</td>\n",
       "      <td>S</td>\n",
       "    </tr>\n",
       "    <tr>\n",
       "      <th>6</th>\n",
       "      <td>898</td>\n",
       "      <td>1</td>\n",
       "      <td>3</td>\n",
       "      <td>Connolly, Miss. Kate</td>\n",
       "      <td>female</td>\n",
       "      <td>30.0</td>\n",
       "      <td>0</td>\n",
       "      <td>0</td>\n",
       "      <td>330972</td>\n",
       "      <td>7.6292</td>\n",
       "      <td>NaN</td>\n",
       "      <td>Q</td>\n",
       "    </tr>\n",
       "    <tr>\n",
       "      <th>7</th>\n",
       "      <td>899</td>\n",
       "      <td>0</td>\n",
       "      <td>2</td>\n",
       "      <td>Caldwell, Mr. Albert Francis</td>\n",
       "      <td>male</td>\n",
       "      <td>26.0</td>\n",
       "      <td>1</td>\n",
       "      <td>1</td>\n",
       "      <td>248738</td>\n",
       "      <td>29.0000</td>\n",
       "      <td>NaN</td>\n",
       "      <td>S</td>\n",
       "    </tr>\n",
       "    <tr>\n",
       "      <th>8</th>\n",
       "      <td>900</td>\n",
       "      <td>1</td>\n",
       "      <td>3</td>\n",
       "      <td>Abrahim, Mrs. Joseph (Sophie Halaut Easu)</td>\n",
       "      <td>female</td>\n",
       "      <td>18.0</td>\n",
       "      <td>0</td>\n",
       "      <td>0</td>\n",
       "      <td>2657</td>\n",
       "      <td>7.2292</td>\n",
       "      <td>NaN</td>\n",
       "      <td>C</td>\n",
       "    </tr>\n",
       "    <tr>\n",
       "      <th>9</th>\n",
       "      <td>901</td>\n",
       "      <td>0</td>\n",
       "      <td>3</td>\n",
       "      <td>Davies, Mr. John Samuel</td>\n",
       "      <td>male</td>\n",
       "      <td>21.0</td>\n",
       "      <td>2</td>\n",
       "      <td>0</td>\n",
       "      <td>A/4 48871</td>\n",
       "      <td>24.1500</td>\n",
       "      <td>NaN</td>\n",
       "      <td>S</td>\n",
       "    </tr>\n",
       "  </tbody>\n",
       "</table>\n",
       "</div>"
      ],
      "text/plain": [
       "   PassengerId  Survived  Pclass   \n",
       "0          892         0       3  \\\n",
       "1          893         1       3   \n",
       "2          894         0       2   \n",
       "3          895         0       3   \n",
       "4          896         1       3   \n",
       "5          897         0       3   \n",
       "6          898         1       3   \n",
       "7          899         0       2   \n",
       "8          900         1       3   \n",
       "9          901         0       3   \n",
       "\n",
       "                                           Name     Sex   Age  SibSp  Parch   \n",
       "0                              Kelly, Mr. James    male  34.5      0      0  \\\n",
       "1              Wilkes, Mrs. James (Ellen Needs)  female  47.0      1      0   \n",
       "2                     Myles, Mr. Thomas Francis    male  62.0      0      0   \n",
       "3                              Wirz, Mr. Albert    male  27.0      0      0   \n",
       "4  Hirvonen, Mrs. Alexander (Helga E Lindqvist)  female  22.0      1      1   \n",
       "5                    Svensson, Mr. Johan Cervin    male  14.0      0      0   \n",
       "6                          Connolly, Miss. Kate  female  30.0      0      0   \n",
       "7                  Caldwell, Mr. Albert Francis    male  26.0      1      1   \n",
       "8     Abrahim, Mrs. Joseph (Sophie Halaut Easu)  female  18.0      0      0   \n",
       "9                       Davies, Mr. John Samuel    male  21.0      2      0   \n",
       "\n",
       "      Ticket     Fare Cabin Embarked  \n",
       "0     330911   7.8292   NaN        Q  \n",
       "1     363272   7.0000   NaN        S  \n",
       "2     240276   9.6875   NaN        Q  \n",
       "3     315154   8.6625   NaN        S  \n",
       "4    3101298  12.2875   NaN        S  \n",
       "5       7538   9.2250   NaN        S  \n",
       "6     330972   7.6292   NaN        Q  \n",
       "7     248738  29.0000   NaN        S  \n",
       "8       2657   7.2292   NaN        C  \n",
       "9  A/4 48871  24.1500   NaN        S  "
      ]
     },
     "execution_count": 4,
     "metadata": {},
     "output_type": "execute_result"
    }
   ],
   "source": [
    "df.head(10)"
   ]
  },
  {
   "cell_type": "code",
   "execution_count": 5,
   "id": "0919aa2d",
   "metadata": {
    "execution": {
     "iopub.execute_input": "2023-11-06T18:41:41.229363Z",
     "iopub.status.busy": "2023-11-06T18:41:41.228143Z",
     "iopub.status.idle": "2023-11-06T18:41:41.256806Z",
     "shell.execute_reply": "2023-11-06T18:41:41.255506Z"
    },
    "papermill": {
     "duration": 0.06355,
     "end_time": "2023-11-06T18:41:41.259734",
     "exception": false,
     "start_time": "2023-11-06T18:41:41.196184",
     "status": "completed"
    },
    "tags": []
   },
   "outputs": [
    {
     "name": "stdout",
     "output_type": "stream",
     "text": [
      "<class 'pandas.core.frame.DataFrame'>\n",
      "RangeIndex: 418 entries, 0 to 417\n",
      "Data columns (total 12 columns):\n",
      " #   Column       Non-Null Count  Dtype  \n",
      "---  ------       --------------  -----  \n",
      " 0   PassengerId  418 non-null    int64  \n",
      " 1   Survived     418 non-null    int64  \n",
      " 2   Pclass       418 non-null    int64  \n",
      " 3   Name         418 non-null    object \n",
      " 4   Sex          418 non-null    object \n",
      " 5   Age          332 non-null    float64\n",
      " 6   SibSp        418 non-null    int64  \n",
      " 7   Parch        418 non-null    int64  \n",
      " 8   Ticket       418 non-null    object \n",
      " 9   Fare         417 non-null    float64\n",
      " 10  Cabin        91 non-null     object \n",
      " 11  Embarked     418 non-null    object \n",
      "dtypes: float64(2), int64(5), object(5)\n",
      "memory usage: 39.3+ KB\n"
     ]
    }
   ],
   "source": [
    "df.info()"
   ]
  },
  {
   "cell_type": "code",
   "execution_count": 6,
   "id": "eeabe0e7",
   "metadata": {
    "execution": {
     "iopub.execute_input": "2023-11-06T18:41:41.322689Z",
     "iopub.status.busy": "2023-11-06T18:41:41.322304Z",
     "iopub.status.idle": "2023-11-06T18:41:41.360559Z",
     "shell.execute_reply": "2023-11-06T18:41:41.359373Z"
    },
    "papermill": {
     "duration": 0.072932,
     "end_time": "2023-11-06T18:41:41.363668",
     "exception": false,
     "start_time": "2023-11-06T18:41:41.290736",
     "status": "completed"
    },
    "tags": []
   },
   "outputs": [
    {
     "data": {
      "text/html": [
       "<div>\n",
       "<style scoped>\n",
       "    .dataframe tbody tr th:only-of-type {\n",
       "        vertical-align: middle;\n",
       "    }\n",
       "\n",
       "    .dataframe tbody tr th {\n",
       "        vertical-align: top;\n",
       "    }\n",
       "\n",
       "    .dataframe thead th {\n",
       "        text-align: right;\n",
       "    }\n",
       "</style>\n",
       "<table border=\"1\" class=\"dataframe\">\n",
       "  <thead>\n",
       "    <tr style=\"text-align: right;\">\n",
       "      <th></th>\n",
       "      <th>PassengerId</th>\n",
       "      <th>Survived</th>\n",
       "      <th>Pclass</th>\n",
       "      <th>Age</th>\n",
       "      <th>SibSp</th>\n",
       "      <th>Parch</th>\n",
       "      <th>Fare</th>\n",
       "    </tr>\n",
       "  </thead>\n",
       "  <tbody>\n",
       "    <tr>\n",
       "      <th>count</th>\n",
       "      <td>418.000000</td>\n",
       "      <td>418.000000</td>\n",
       "      <td>418.000000</td>\n",
       "      <td>332.000000</td>\n",
       "      <td>418.000000</td>\n",
       "      <td>418.000000</td>\n",
       "      <td>417.000000</td>\n",
       "    </tr>\n",
       "    <tr>\n",
       "      <th>mean</th>\n",
       "      <td>1100.500000</td>\n",
       "      <td>0.363636</td>\n",
       "      <td>2.265550</td>\n",
       "      <td>30.272590</td>\n",
       "      <td>0.447368</td>\n",
       "      <td>0.392344</td>\n",
       "      <td>35.627188</td>\n",
       "    </tr>\n",
       "    <tr>\n",
       "      <th>std</th>\n",
       "      <td>120.810458</td>\n",
       "      <td>0.481622</td>\n",
       "      <td>0.841838</td>\n",
       "      <td>14.181209</td>\n",
       "      <td>0.896760</td>\n",
       "      <td>0.981429</td>\n",
       "      <td>55.907576</td>\n",
       "    </tr>\n",
       "    <tr>\n",
       "      <th>min</th>\n",
       "      <td>892.000000</td>\n",
       "      <td>0.000000</td>\n",
       "      <td>1.000000</td>\n",
       "      <td>0.170000</td>\n",
       "      <td>0.000000</td>\n",
       "      <td>0.000000</td>\n",
       "      <td>0.000000</td>\n",
       "    </tr>\n",
       "    <tr>\n",
       "      <th>25%</th>\n",
       "      <td>996.250000</td>\n",
       "      <td>0.000000</td>\n",
       "      <td>1.000000</td>\n",
       "      <td>21.000000</td>\n",
       "      <td>0.000000</td>\n",
       "      <td>0.000000</td>\n",
       "      <td>7.895800</td>\n",
       "    </tr>\n",
       "    <tr>\n",
       "      <th>50%</th>\n",
       "      <td>1100.500000</td>\n",
       "      <td>0.000000</td>\n",
       "      <td>3.000000</td>\n",
       "      <td>27.000000</td>\n",
       "      <td>0.000000</td>\n",
       "      <td>0.000000</td>\n",
       "      <td>14.454200</td>\n",
       "    </tr>\n",
       "    <tr>\n",
       "      <th>75%</th>\n",
       "      <td>1204.750000</td>\n",
       "      <td>1.000000</td>\n",
       "      <td>3.000000</td>\n",
       "      <td>39.000000</td>\n",
       "      <td>1.000000</td>\n",
       "      <td>0.000000</td>\n",
       "      <td>31.500000</td>\n",
       "    </tr>\n",
       "    <tr>\n",
       "      <th>max</th>\n",
       "      <td>1309.000000</td>\n",
       "      <td>1.000000</td>\n",
       "      <td>3.000000</td>\n",
       "      <td>76.000000</td>\n",
       "      <td>8.000000</td>\n",
       "      <td>9.000000</td>\n",
       "      <td>512.329200</td>\n",
       "    </tr>\n",
       "  </tbody>\n",
       "</table>\n",
       "</div>"
      ],
      "text/plain": [
       "       PassengerId    Survived      Pclass         Age       SibSp   \n",
       "count   418.000000  418.000000  418.000000  332.000000  418.000000  \\\n",
       "mean   1100.500000    0.363636    2.265550   30.272590    0.447368   \n",
       "std     120.810458    0.481622    0.841838   14.181209    0.896760   \n",
       "min     892.000000    0.000000    1.000000    0.170000    0.000000   \n",
       "25%     996.250000    0.000000    1.000000   21.000000    0.000000   \n",
       "50%    1100.500000    0.000000    3.000000   27.000000    0.000000   \n",
       "75%    1204.750000    1.000000    3.000000   39.000000    1.000000   \n",
       "max    1309.000000    1.000000    3.000000   76.000000    8.000000   \n",
       "\n",
       "            Parch        Fare  \n",
       "count  418.000000  417.000000  \n",
       "mean     0.392344   35.627188  \n",
       "std      0.981429   55.907576  \n",
       "min      0.000000    0.000000  \n",
       "25%      0.000000    7.895800  \n",
       "50%      0.000000   14.454200  \n",
       "75%      0.000000   31.500000  \n",
       "max      9.000000  512.329200  "
      ]
     },
     "execution_count": 6,
     "metadata": {},
     "output_type": "execute_result"
    }
   ],
   "source": [
    "df.describe()"
   ]
  },
  {
   "cell_type": "code",
   "execution_count": 7,
   "id": "3a3233b0",
   "metadata": {
    "execution": {
     "iopub.execute_input": "2023-11-06T18:41:41.429196Z",
     "iopub.status.busy": "2023-11-06T18:41:41.428294Z",
     "iopub.status.idle": "2023-11-06T18:41:41.846983Z",
     "shell.execute_reply": "2023-11-06T18:41:41.845512Z"
    },
    "papermill": {
     "duration": 0.454617,
     "end_time": "2023-11-06T18:41:41.849691",
     "exception": false,
     "start_time": "2023-11-06T18:41:41.395074",
     "status": "completed"
    },
    "tags": []
   },
   "outputs": [
    {
     "data": {
      "image/png": "[encoded data removed]",
      "text/plain": [
       "<Figure size 600x300 with 1 Axes>"
      ]
     },
     "metadata": {},
     "output_type": "display_data"
    }
   ],
   "source": [
    "plt.figure(figsize=(6, 3))\n",
    "sns.histplot(df['Age'], bins=20, kde=True)\n",
    "plt.title('Distribution of Age')\n",
    "plt.xlabel('Age')\n",
    "plt.ylabel('Frequency')\n",
    "plt.show()\n"
   ]
  },
  {
   "cell_type": "code",
   "execution_count": 8,
   "id": "d0e7ffb8",
   "metadata": {
    "execution": {
     "iopub.execute_input": "2023-11-06T18:41:41.916932Z",
     "iopub.status.busy": "2023-11-06T18:41:41.916037Z",
     "iopub.status.idle": "2023-11-06T18:41:42.280440Z",
     "shell.execute_reply": "2023-11-06T18:41:42.278629Z"
    },
    "papermill": {
     "duration": 0.400924,
     "end_time": "2023-11-06T18:41:42.283460",
     "exception": false,
     "start_time": "2023-11-06T18:41:41.882536",
     "status": "completed"
    },
    "tags": []
   },
   "outputs": [
    {
     "data": {
      "image/png": "[encoded data removed]",
      "text/plain": [
       "<Figure size 640x480 with 1 Axes>"
      ]
     },
     "metadata": {},
     "output_type": "display_data"
    }
   ],
   "source": [
    "sns.barplot(x='Sex', y='Survived', data=df)\n",
    "plt.title('Survival Rate by Gender')\n",
    "plt.show()\n"
   ]
  },
  {
   "cell_type": "code",
   "execution_count": 9,
   "id": "566add31",
   "metadata": {
    "execution": {
     "iopub.execute_input": "2023-11-06T18:41:42.353108Z",
     "iopub.status.busy": "2023-11-06T18:41:42.352292Z",
     "iopub.status.idle": "2023-11-06T18:41:42.741256Z",
     "shell.execute_reply": "2023-11-06T18:41:42.739854Z"
    },
    "papermill": {
     "duration": 0.425978,
     "end_time": "2023-11-06T18:41:42.744143",
     "exception": false,
     "start_time": "2023-11-06T18:41:42.318165",
     "status": "completed"
    },
    "tags": []
   },
   "outputs": [
    {
     "data": {
      "image/png": "[encoded data removed]",
      "text/plain": [
       "<Figure size 640x480 with 1 Axes>"
      ]
     },
     "metadata": {},
     "output_type": "display_data"
    }
   ],
   "source": [
    "sns.barplot(x='Pclass', y='Survived', data=df)\n",
    "plt.title('Survival Rate by Class')\n",
    "plt.show()\n"
   ]
  },
  {
   "cell_type": "markdown",
   "id": "a0b3af0a",
   "metadata": {
    "papermill": {
     "duration": 0.031494,
     "end_time": "2023-11-06T18:41:43.423518",
     "exception": false,
     "start_time": "2023-11-06T18:41:43.392024",
     "status": "completed"
    },
    "tags": []
   },
   "source": [
    "# **Creating New feature for Family**"
   ]
  },
  {
   "cell_type": "code",
   "execution_count": null,
   "id": "ca948671",
   "metadata": {
    "execution": {
     "iopub.execute_input": "2023-11-06T18:41:43.491697Z",
     "iopub.status.busy": "2023-11-06T18:41:43.491266Z",
     "iopub.status.idle": "2023-11-06T18:41:43.498342Z",
     "shell.execute_reply": "2023-11-06T18:41:43.497030Z"
    },
    "papermill": {
     "duration": 0.042845,
     "end_time": "2023-11-06T18:41:43.501010",
     "exception": false,
     "start_time": "2023-11-06T18:41:43.458165",
     "status": "completed"
    },
    "tags": []
   },
   "outputs": [],
   "source": [
    "df['FamilySize'] = df['SibSp'] + df['Parch'] + 1\n"
   ]
  },
  {
   "cell_type": "markdown",
   "id": "8d951127",
   "metadata": {
    "papermill": {
     "duration": 0.033811,
     "end_time": "2023-11-06T18:41:43.570266",
     "exception": false,
     "start_time": "2023-11-06T18:41:43.536455",
     "status": "completed"
    },
    "tags": []
   },
   "source": [
    "# **Show the null values:**"
   ]
  },
  {
   "cell_type": "code",
   "execution_count": null,
   "id": "98673779",
   "metadata": {
    "execution": {
     "iopub.execute_input": "2023-11-06T18:41:43.638471Z",
     "iopub.status.busy": "2023-11-06T18:41:43.638069Z",
     "iopub.status.idle": "2023-11-06T18:41:43.650817Z",
     "shell.execute_reply": "2023-11-06T18:41:43.649555Z"
    },
    "papermill": {
     "duration": 0.051324,
     "end_time": "2023-11-06T18:41:43.653392",
     "exception": false,
     "start_time": "2023-11-06T18:41:43.602068",
     "status": "completed"
    },
    "tags": []
   },
   "outputs": [
    {
     "data": {
      "text/plain": [
       "PassengerId      0\n",
       "Survived         0\n",
       "Pclass           0\n",
       "Name             0\n",
       "Sex              0\n",
       "Age             86\n",
       "SibSp            0\n",
       "Parch            0\n",
       "Ticket           0\n",
       "Fare             1\n",
       "Cabin          327\n",
       "Embarked         0\n",
       "FamilySize       0\n",
       "dtype: int64"
      ]
     },
     "execution_count": 11,
     "metadata": {},
     "output_type": "execute_result"
    }
   ],
   "source": [
    "df.isnull().sum()"
   ]
  },
  {
   "cell_type": "markdown",
   "id": "33e01d6b",
   "metadata": {
    "papermill": {
     "duration": 0.034157,
     "end_time": "2023-11-06T18:41:43.721653",
     "exception": false,
     "start_time": "2023-11-06T18:41:43.687496",
     "status": "completed"
    },
    "tags": []
   },
   "source": [
    "**So there are 86 missing values in the age column,and 327 missing values in the cabin or 1 missing values in the fare ,we ingnore them:**"
   ]
  },
  {
   "cell_type": "markdown",
   "id": "d8c0b4e0",
   "metadata": {
    "papermill": {
     "duration": 0.034583,
     "end_time": "2023-11-06T18:41:43.793650",
     "exception": false,
     "start_time": "2023-11-06T18:41:43.759067",
     "status": "completed"
    },
    "tags": []
   },
   "source": [
    "# Check Class"
   ]
  },
  {
   "cell_type": "code",
   "execution_count": null,
   "id": "72bd468f",
   "metadata": {
    "execution": {
     "iopub.execute_input": "2023-11-06T18:41:43.868533Z",
     "iopub.status.busy": "2023-11-06T18:41:43.868139Z",
     "iopub.status.idle": "2023-11-06T18:41:43.877133Z",
     "shell.execute_reply": "2023-11-06T18:41:43.875471Z"
    },
    "papermill": {
     "duration": 0.048542,
     "end_time": "2023-11-06T18:41:43.880103",
     "exception": false,
     "start_time": "2023-11-06T18:41:43.831561",
     "status": "completed"
    },
    "tags": []
   },
   "outputs": [
    {
     "data": {
      "text/plain": [
       "array([3, 2, 1])"
      ]
     },
     "execution_count": 12,
     "metadata": {},
     "output_type": "execute_result"
    }
   ],
   "source": [
    "df.Pclass.unique()"
   ]
  },
  {
   "cell_type": "markdown",
   "id": "4596014a",
   "metadata": {
    "papermill": {
     "duration": 0.038393,
     "end_time": "2023-11-06T18:41:43.954930",
     "exception": false,
     "start_time": "2023-11-06T18:41:43.916537",
     "status": "completed"
    },
    "tags": []
   },
   "source": [
    "# Show the Unique Embarked:"
   ]
  },
  {
   "cell_type": "code",
   "execution_count": null,
   "id": "f31c3a37",
   "metadata": {
    "execution": {
     "iopub.execute_input": "2023-11-06T18:41:44.025585Z",
     "iopub.status.busy": "2023-11-06T18:41:44.025157Z",
     "iopub.status.idle": "2023-11-06T18:41:44.035140Z",
     "shell.execute_reply": "2023-11-06T18:41:44.033662Z"
    },
    "papermill": {
     "duration": 0.049672,
     "end_time": "2023-11-06T18:41:44.037897",
     "exception": false,
     "start_time": "2023-11-06T18:41:43.988225",
     "status": "completed"
    },
    "tags": []
   },
   "outputs": [
    {
     "data": {
      "text/plain": [
       "array(['Q', 'S', 'C'], dtype=object)"
      ]
     },
     "execution_count": 13,
     "metadata": {},
     "output_type": "execute_result"
    }
   ],
   "source": [
    "df.Embarked.unique()"
   ]
  },
  {
   "cell_type": "markdown",
   "id": "949b0420",
   "metadata": {
    "papermill": {
     "duration": 0.034581,
     "end_time": "2023-11-06T18:41:44.106988",
     "exception": false,
     "start_time": "2023-11-06T18:41:44.072407",
     "status": "completed"
    },
    "tags": []
   },
   "source": [
    "# Check Gender "
   ]
  },
  {
   "cell_type": "code",
   "execution_count": null,
   "id": "e4245001",
   "metadata": {
    "execution": {
     "iopub.execute_input": "2023-11-06T18:41:44.173033Z",
     "iopub.status.busy": "2023-11-06T18:41:44.172610Z",
     "iopub.status.idle": "2023-11-06T18:41:44.184929Z",
     "shell.execute_reply": "2023-11-06T18:41:44.183684Z"
    },
    "papermill": {
     "duration": 0.048927,
     "end_time": "2023-11-06T18:41:44.187961",
     "exception": false,
     "start_time": "2023-11-06T18:41:44.139034",
     "status": "completed"
    },
    "tags": []
   },
   "outputs": [
    {
     "data": {
      "text/plain": [
       "Sex     Survived\n",
       "female  1           152\n",
       "male    0           266\n",
       "Name: Survived, dtype: int64"
      ]
     },
     "execution_count": 14,
     "metadata": {},
     "output_type": "execute_result"
    }
   ],
   "source": [
    "df.groupby(\"Sex\").Survived.value_counts()"
   ]
  },
  {
   "cell_type": "markdown",
   "id": "fb4609db",
   "metadata": {
    "papermill": {
     "duration": 0.038233,
     "end_time": "2023-11-06T18:41:44.260995",
     "exception": false,
     "start_time": "2023-11-06T18:41:44.222762",
     "status": "completed"
    },
    "tags": []
   },
   "source": [
    "# Passengers by Class"
   ]
  },
  {
   "cell_type": "code",
   "execution_count": null,
   "id": "837e3aab",
   "metadata": {
    "execution": {
     "iopub.execute_input": "2023-11-06T18:41:44.332694Z",
     "iopub.status.busy": "2023-11-06T18:41:44.332265Z",
     "iopub.status.idle": "2023-11-06T18:41:44.597421Z",
     "shell.execute_reply": "2023-11-06T18:41:44.596186Z"
    },
    "papermill": {
     "duration": 0.304657,
     "end_time": "2023-11-06T18:41:44.600036",
     "exception": false,
     "start_time": "2023-11-06T18:41:44.295379",
     "status": "completed"
    },
    "tags": []
   },
   "outputs": [
    {
     "name": "stdout",
     "output_type": "stream",
     "text": [
      "   Class  Total\n",
      "0      3    218\n",
      "1      1    107\n",
      "2      2     93\n"
     ]
    },
    {
     "data": {
      "image/png": "[encoded data removed]",
      "text/plain": [
       "<Figure size 600x300 with 1 Axes>"
      ]
     },
     "metadata": {},
     "output_type": "display_data"
    }
   ],
   "source": [
    "# Count the number of passengers in each class\n",
    "\n",
    "class_=pd.DataFrame(df.Pclass.value_counts().reset_index().rename(columns={\"index\":\"Class\",\"Pclass\":\"Total\"}))\n",
    "print(class_)\n",
    "class_counts = df['Pclass'].value_counts()\n",
    "\n",
    "# Create a bar plot to visualize the class distribution\n",
    "plt.figure(figsize=(6, 3))\n",
    "sns.barplot(x=class_counts.index, y=class_counts.values, palette='Set3')\n",
    "plt.title('Passenger Count by Class')\n",
    "plt.xlabel('Class')\n",
    "plt.ylabel('Number of Passengers')\n",
    "plt.show()\n"
   ]
  },
  {
   "cell_type": "markdown",
   "id": "16f1f655",
   "metadata": {
    "papermill": {
     "duration": 0.032575,
     "end_time": "2023-11-06T18:41:44.665163",
     "exception": false,
     "start_time": "2023-11-06T18:41:44.632588",
     "status": "completed"
    },
    "tags": []
   },
   "source": [
    "# passengers arrived from the port"
   ]
  },
  {
   "cell_type": "code",
   "execution_count": null,
   "id": "04809700",
   "metadata": {
    "execution": {
     "iopub.execute_input": "2023-11-06T18:41:44.732813Z",
     "iopub.status.busy": "2023-11-06T18:41:44.731832Z",
     "iopub.status.idle": "2023-11-06T18:41:45.008796Z",
     "shell.execute_reply": "2023-11-06T18:41:45.006919Z"
    },
    "papermill": {
     "duration": 0.314023,
     "end_time": "2023-11-06T18:41:45.011616",
     "exception": false,
     "start_time": "2023-11-06T18:41:44.697593",
     "status": "completed"
    },
    "tags": []
   },
   "outputs": [
    {
     "name": "stdout",
     "output_type": "stream",
     "text": [
      "  port  Total\n",
      "0    S    270\n",
      "1    C    102\n",
      "2    Q     46\n"
     ]
    },
    {
     "data": {
      "image/png": "[encoded data removed]",
      "text/plain": [
       "<Figure size 600x300 with 1 Axes>"
      ]
     },
     "metadata": {},
     "output_type": "display_data"
    }
   ],
   "source": [
    "ps=pd.DataFrame(df.Embarked.value_counts().reset_index().rename(columns={\"index\":\"port\",\"Embarked\":\"Total\"}))\n",
    "print(ps)\n",
    "\n",
    "\n",
    "port_counts = df['Embarked'].value_counts()\n",
    "plt.figure(figsize=(6, 3))\n",
    "sns.barplot(x=port_counts.index, y=port_counts.values, palette='viridis')\n",
    "plt.title('Passenger Count by Embarkation Port')\n",
    "plt.xlabel('Embarkation Port')\n",
    "plt.ylabel('Number of Passengers')\n",
    "plt.show()\n"
   ]
  },
  {
   "cell_type": "markdown",
   "id": "966071cc",
   "metadata": {
    "papermill": {
     "duration": 0.034237,
     "end_time": "2023-11-06T18:41:45.080665",
     "exception": false,
     "start_time": "2023-11-06T18:41:45.046428",
     "status": "completed"
    },
    "tags": []
   },
   "source": [
    "# female survived"
   ]
  },
  {
   "cell_type": "code",
   "execution_count": null,
   "id": "e8eb4e5b",
   "metadata": {
    "execution": {
     "iopub.execute_input": "2023-11-06T18:41:45.154534Z",
     "iopub.status.busy": "2023-11-06T18:41:45.153653Z",
     "iopub.status.idle": "2023-11-06T18:41:45.618724Z",
     "shell.execute_reply": "2023-11-06T18:41:45.617361Z"
    },
    "papermill": {
     "duration": 0.504462,
     "end_time": "2023-11-06T18:41:45.621584",
     "exception": false,
     "start_time": "2023-11-06T18:41:45.117122",
     "status": "completed"
    },
    "tags": []
   },
   "outputs": [
    {
     "name": "stdout",
     "output_type": "stream",
     "text": [
      "Number of females who survived: 152\n",
      "Number of females who did not survive: 0\n"
     ]
    },
    {
     "data": {
      "image/png": "[encoded data removed]",
      "text/plain": [
       "<Figure size 600x300 with 1 Axes>"
      ]
     },
     "metadata": {},
     "output_type": "display_data"
    }
   ],
   "source": [
    "# Filter the dataset to include only females\n",
    "female_passengers = df[df['Sex'] == 'female']\n",
    "\n",
    "# Count the number of females who survived\n",
    "female_survived = female_passengers[female_passengers['Survived'] == 1]\n",
    "\n",
    "# Display the count of females who survived\n",
    "num_female_survived = len(female_survived)\n",
    "# Count the number of females who did not survive\n",
    "num_female_not_survived = len(female_passengers) - num_female_survived\n",
    "\n",
    "print(f'Number of females who survived: {num_female_survived}')\n",
    "print(f'Number of females who did not survive: {num_female_not_survived}')\n",
    "\n",
    "\n",
    "# Create a bar plot to visualize female survival\n",
    "plt.figure(figsize=(6, 3))\n",
    "sns.barplot(x=['Survived', 'Not Survived'], y=[num_female_survived, num_female_not_survived], palette='Set2')\n",
    "plt.title('Female Survival Count')\n",
    "plt.xlabel('Survival Status')\n",
    "plt.ylabel('Number of Females')\n",
    "plt.show()\n"
   ]
  },
  {
   "cell_type": "markdown",
   "id": "dbcb9056",
   "metadata": {
    "papermill": {
     "duration": 0.036077,
     "end_time": "2023-11-06T18:41:45.691661",
     "exception": false,
     "start_time": "2023-11-06T18:41:45.655584",
     "status": "completed"
    },
    "tags": []
   },
   "source": [
    "# Male Survived"
   ]
  },
  {
   "cell_type": "code",
   "execution_count": null,
   "id": "10efbe71",
   "metadata": {
    "execution": {
     "iopub.execute_input": "2023-11-06T18:41:45.764810Z",
     "iopub.status.busy": "2023-11-06T18:41:45.763294Z",
     "iopub.status.idle": "2023-11-06T18:41:46.029748Z",
     "shell.execute_reply": "2023-11-06T18:41:46.027833Z"
    },
    "papermill": {
     "duration": 0.305409,
     "end_time": "2023-11-06T18:41:46.032566",
     "exception": false,
     "start_time": "2023-11-06T18:41:45.727157",
     "status": "completed"
    },
    "tags": []
   },
   "outputs": [
    {
     "name": "stdout",
     "output_type": "stream",
     "text": [
      "Number of males who survived: 0\n",
      "Number of males who did not survive: 266\n"
     ]
    },
    {
     "data": {
      "image/png": "[encoded data removed]",
      "text/plain": [
       "<Figure size 600x300 with 1 Axes>"
      ]
     },
     "metadata": {},
     "output_type": "display_data"
    }
   ],
   "source": [
    "# Filter the dataset to include only males\n",
    "male_passengers = df[df['Sex'] == 'male']\n",
    "\n",
    "# Count the number of males who did survive\n",
    "male_survived = male_passengers[male_passengers['Survived'] == 1]\n",
    "num_male_survived = len(male_survived)\n",
    "\n",
    "# Count the number of males who did not survive\n",
    "male_not_survived = male_passengers[male_passengers['Survived'] != 1]\n",
    "num_male_not_survived = len(male_not_survived)\n",
    "\n",
    "\n",
    " \n",
    "print(f'Number of males who survived: 0')\n",
    "print(f'Number of males who did not survive: 266')\n",
    "\n",
    "\n",
    "# Create a bar plot to visualize female survival\n",
    "plt.figure(figsize=(6, 3))\n",
    "sns.barplot(x=['Survived', 'not Survived'], y=[num_male_survived, num_male_not_survived], palette='Set2')\n",
    "plt.title('male Survival Count')\n",
    "plt.xlabel('Survival Status')\n",
    "plt.ylabel('Number of males')\n",
    "plt.show()"
   ]
  },
  {
   "cell_type": "markdown",
   "id": "cc24b2d4",
   "metadata": {
    "papermill": {
     "duration": 0.036853,
     "end_time": "2023-11-06T18:41:46.107145",
     "exception": false,
     "start_time": "2023-11-06T18:41:46.070292",
     "status": "completed"
    },
    "tags": []
   },
   "source": [
    "# Show the Sex Ratio"
   ]
  },
  {
   "cell_type": "code",
   "execution_count": null,
   "id": "b39252fd",
   "metadata": {
    "execution": {
     "iopub.execute_input": "2023-11-06T18:41:46.183646Z",
     "iopub.status.busy": "2023-11-06T18:41:46.183200Z",
     "iopub.status.idle": "2023-11-06T18:41:46.450502Z",
     "shell.execute_reply": "2023-11-06T18:41:46.449409Z"
    },
    "papermill": {
     "duration": 0.308116,
     "end_time": "2023-11-06T18:41:46.453146",
     "exception": false,
     "start_time": "2023-11-06T18:41:46.145030",
     "status": "completed"
    },
    "tags": []
   },
   "outputs": [
    {
     "data": {
      "image/png": "[encoded data removed]",
      "text/plain": [
       "<Figure size 600x300 with 1 Axes>"
      ]
     },
     "metadata": {},
     "output_type": "display_data"
    },
    {
     "name": "stdout",
     "output_type": "stream",
     "text": [
      "Sex Ratio in Titanic Dataset:\n",
      "male      266\n",
      "female    152\n",
      "Name: Sex, dtype: int64\n"
     ]
    }
   ],
   "source": [
    "# Count the number of males and females\n",
    "sex_counts = df['Sex'].value_counts()\n",
    "\n",
    "\n",
    "# Create a bar plot to visualize the sex ratio\n",
    "plt.figure(figsize=(6, 3))\n",
    "sns.barplot(x=sex_counts.index, y=sex_counts.values, palette='Pastel1')\n",
    "plt.title('Sex Ratio in Titanic Dataset')\n",
    "plt.xlabel('Sex')\n",
    "plt.ylabel('Number of Passengers')\n",
    "plt.show()\n",
    "\n",
    "# Print the sex ratio\n",
    "print('Sex Ratio in Titanic Dataset:')\n",
    "print(sex_counts)\n"
   ]
  },
  {
   "cell_type": "markdown",
   "id": "39192f80",
   "metadata": {
    "papermill": {
     "duration": 0.037286,
     "end_time": "2023-11-06T18:41:46.528877",
     "exception": false,
     "start_time": "2023-11-06T18:41:46.491591",
     "status": "completed"
    },
    "tags": []
   },
   "source": [
    "# No. of male and Female survived in each class"
   ]
  },
  {
   "cell_type": "code",
   "execution_count": null,
   "id": "d1f45b31",
   "metadata": {
    "execution": {
     "iopub.execute_input": "2023-11-06T18:41:46.608343Z",
     "iopub.status.busy": "2023-11-06T18:41:46.606667Z",
     "iopub.status.idle": "2023-11-06T18:41:46.966666Z",
     "shell.execute_reply": "2023-11-06T18:41:46.965331Z"
    },
    "papermill": {
     "duration": 0.401771,
     "end_time": "2023-11-06T18:41:46.969764",
     "exception": false,
     "start_time": "2023-11-06T18:41:46.567993",
     "status": "completed"
    },
    "tags": []
   },
   "outputs": [
    {
     "data": {
      "image/png": "[encoded data removed]",
      "text/plain": [
       "<Figure size 600x300 with 1 Axes>"
      ]
     },
     "metadata": {},
     "output_type": "display_data"
    },
    {
     "name": "stdout",
     "output_type": "stream",
     "text": [
      "Number of Male and Female Survivors in Each Class:\n",
      "Sex     female\n",
      "Pclass        \n",
      "1           50\n",
      "2           30\n",
      "3           72\n"
     ]
    }
   ],
   "source": [
    "# Filter the dataset to include only survivors\n",
    "survivors = df[df['Survived'] == 1]\n",
    "\n",
    "# Create a bar plot to visualize the number of male and female survivors in each class\n",
    "plt.figure(figsize=(6, 3))\n",
    "sns.countplot(data=survivors, x='Pclass', hue='Sex', palette='Set3')\n",
    "plt.title('Number of Male and Female Survivors in Each Class')\n",
    "plt.xlabel('Passenger Class')\n",
    "plt.ylabel('Number of Survivors')\n",
    "plt.legend(title='Sex', labels=['Female', 'Male'])\n",
    "plt.show()\n",
    "\n",
    "# Count the number of male and female survivors in each class\n",
    "survivors_by_class = survivors.groupby(['Pclass', 'Sex']).size().unstack()\n",
    "print('Number of Male and Female Survivors in Each Class:')\n",
    "print(survivors_by_class)"
   ]
  },
  {
   "cell_type": "code",
   "execution_count": null,
   "id": "bbc06ec0",
   "metadata": {
    "execution": {
     "iopub.execute_input": "2023-11-06T18:41:47.048011Z",
     "iopub.status.busy": "2023-11-06T18:41:47.047398Z",
     "iopub.status.idle": "2023-11-06T18:41:47.063639Z",
     "shell.execute_reply": "2023-11-06T18:41:47.062410Z"
    },
    "papermill": {
     "duration": 0.061168,
     "end_time": "2023-11-06T18:41:47.067190",
     "exception": false,
     "start_time": "2023-11-06T18:41:47.006022",
     "status": "completed"
    },
    "tags": []
   },
   "outputs": [
    {
     "data": {
      "text/plain": [
       "Sex     Survived\n",
       "female  1           1.0\n",
       "male    0           1.0\n",
       "Name: Survived, dtype: float64"
      ]
     },
     "execution_count": 21,
     "metadata": {},
     "output_type": "execute_result"
    }
   ],
   "source": [
    "df.groupby('Sex').Survived.value_counts(normalize=True)"
   ]
  },
  {
   "cell_type": "code",
   "execution_count": null,
   "id": "8a25e879",
   "metadata": {
    "execution": {
     "iopub.execute_input": "2023-11-06T18:41:47.156788Z",
     "iopub.status.busy": "2023-11-06T18:41:47.155634Z",
     "iopub.status.idle": "2023-11-06T18:41:47.482578Z",
     "shell.execute_reply": "2023-11-06T18:41:47.481205Z"
    },
    "papermill": {
     "duration": 0.374743,
     "end_time": "2023-11-06T18:41:47.485354",
     "exception": false,
     "start_time": "2023-11-06T18:41:47.110611",
     "status": "completed"
    },
    "tags": []
   },
   "outputs": [
    {
     "data": {
      "image/png": "[encoded data removed]",
      "text/plain": [
       "<Figure size 640x480 with 1 Axes>"
      ]
     },
     "metadata": {},
     "output_type": "display_data"
    }
   ],
   "source": [
    "sns.countplot(data=df, x='Pclass', hue='Survived');"
   ]
  },
  {
   "cell_type": "markdown",
   "id": "81ebd58f",
   "metadata": {
    "papermill": {
     "duration": 0.039581,
     "end_time": "2023-11-06T18:41:47.562271",
     "exception": false,
     "start_time": "2023-11-06T18:41:47.522690",
     "status": "completed"
    },
    "tags": []
   },
   "source": [
    "# Survive target feature"
   ]
  },
  {
   "cell_type": "code",
   "execution_count": null,
   "id": "d599b0b2",
   "metadata": {
    "execution": {
     "iopub.execute_input": "2023-11-06T18:41:47.640666Z",
     "iopub.status.busy": "2023-11-06T18:41:47.639876Z",
     "iopub.status.idle": "2023-11-06T18:41:47.648920Z",
     "shell.execute_reply": "2023-11-06T18:41:47.647996Z"
    },
    "papermill": {
     "duration": 0.053648,
     "end_time": "2023-11-06T18:41:47.652229",
     "exception": false,
     "start_time": "2023-11-06T18:41:47.598581",
     "status": "completed"
    },
    "tags": []
   },
   "outputs": [
    {
     "data": {
      "text/plain": [
       "0    0.636364\n",
       "1    0.363636\n",
       "Name: Survived, dtype: float64"
      ]
     },
     "execution_count": 23,
     "metadata": {},
     "output_type": "execute_result"
    }
   ],
   "source": [
    " df.Survived.value_counts(normalize=True)"
   ]
  },
  {
   "cell_type": "markdown",
   "id": "a728c02f",
   "metadata": {
    "papermill": {
     "duration": 0.037762,
     "end_time": "2023-11-06T18:41:47.727933",
     "exception": false,
     "start_time": "2023-11-06T18:41:47.690171",
     "status": "completed"
    },
    "tags": []
   },
   "source": [
    "# Effect of social economy in survival rate"
   ]
  },
  {
   "cell_type": "code",
   "execution_count": null,
   "id": "d0ce4922",
   "metadata": {
    "execution": {
     "iopub.execute_input": "2023-11-06T18:41:47.805043Z",
     "iopub.status.busy": "2023-11-06T18:41:47.804259Z",
     "iopub.status.idle": "2023-11-06T18:41:48.071913Z",
     "shell.execute_reply": "2023-11-06T18:41:48.070363Z"
    },
    "papermill": {
     "duration": 0.308912,
     "end_time": "2023-11-06T18:41:48.074585",
     "exception": false,
     "start_time": "2023-11-06T18:41:47.765673",
     "status": "completed"
    },
    "tags": []
   },
   "outputs": [
    {
     "data": {
      "image/png": "[encoded data removed]",
      "text/plain": [
       "<Figure size 600x300 with 1 Axes>"
      ]
     },
     "metadata": {},
     "output_type": "display_data"
    },
    {
     "name": "stdout",
     "output_type": "stream",
     "text": [
      "Survival Rate by Passenger Class:\n",
      "Pclass\n",
      "1    0.467290\n",
      "2    0.322581\n",
      "3    0.330275\n",
      "Name: Survived, dtype: float64\n"
     ]
    }
   ],
   "source": [
    "# Calculate survival rate by passenger class\n",
    "survival_rate_by_class = df.groupby('Pclass')['Survived'].mean()\n",
    "\n",
    "# Create a bar plot to visualize survival rate by passenger class\n",
    "plt.figure(figsize=(6, 3))\n",
    "sns.barplot(x=survival_rate_by_class.index, y=survival_rate_by_class.values, palette='BuGn')\n",
    "plt.title('Survival Rate by Passenger Class')\n",
    "plt.xlabel('Passenger Class')\n",
    "plt.ylabel('Survival Rate')\n",
    "plt.show()\n",
    "\n",
    "# Print the survival rate by passenger class\n",
    "print('Survival Rate by Passenger Class:')\n",
    "print(survival_rate_by_class)"
   ]
  },
  {
   "cell_type": "markdown",
   "id": "d5e767db",
   "metadata": {
    "papermill": {
     "duration": 0.038518,
     "end_time": "2023-11-06T18:41:48.150137",
     "exception": false,
     "start_time": "2023-11-06T18:41:48.111619",
     "status": "completed"
    },
    "tags": []
   },
   "source": [
    "# Age Survived"
   ]
  },
  {
   "cell_type": "code",
   "execution_count": null,
   "id": "a74656b0",
   "metadata": {
    "execution": {
     "iopub.execute_input": "2023-11-06T18:41:48.230724Z",
     "iopub.status.busy": "2023-11-06T18:41:48.230280Z",
     "iopub.status.idle": "2023-11-06T18:41:48.723149Z",
     "shell.execute_reply": "2023-11-06T18:41:48.721895Z"
    },
    "papermill": {
     "duration": 0.535719,
     "end_time": "2023-11-06T18:41:48.725785",
     "exception": false,
     "start_time": "2023-11-06T18:41:48.190066",
     "status": "completed"
    },
    "tags": []
   },
   "outputs": [
    {
     "data": {
      "image/png": "[encoded data removed]",
      "text/plain": [
       "<Figure size 600x300 with 1 Axes>"
      ]
     },
     "metadata": {},
     "output_type": "display_data"
    }
   ],
   "source": [
    "# Create a histogram of ages for passengers who survived and those who did not\n",
    "plt.figure(figsize=(6, 3))\n",
    "sns.histplot(data=df, x='Age', hue='Survived', multiple='stack', kde=True, palette='Set1')\n",
    "plt.title('Distribution of Survival by Age')\n",
    "plt.xlabel('Age')\n",
    "plt.ylabel('Number of Passengers')\n",
    "plt.legend(title='Survived', labels=['Not Survived', 'Survived'])\n",
    "plt.show()"
   ]
  },
  {
   "cell_type": "markdown",
   "id": "b8de2943",
   "metadata": {
    "papermill": {
     "duration": 0.038134,
     "end_time": "2023-11-06T18:41:48.801868",
     "exception": false,
     "start_time": "2023-11-06T18:41:48.763734",
     "status": "completed"
    },
    "tags": []
   },
   "source": [
    "# Lest show the numer of Survived mean and Non Survived mean"
   ]
  },
  {
   "cell_type": "code",
   "execution_count": null,
   "id": "98b29c5f",
   "metadata": {
    "execution": {
     "iopub.execute_input": "2023-11-06T18:41:48.882197Z",
     "iopub.status.busy": "2023-11-06T18:41:48.881773Z",
     "iopub.status.idle": "2023-11-06T18:41:49.163754Z",
     "shell.execute_reply": "2023-11-06T18:41:49.162377Z"
    },
    "papermill": {
     "duration": 0.326051,
     "end_time": "2023-11-06T18:41:49.166590",
     "exception": false,
     "start_time": "2023-11-06T18:41:48.840539",
     "status": "completed"
    },
    "tags": []
   },
   "outputs": [
    {
     "data": {
      "image/png": "[encoded data removed]",
      "text/plain": [
       "<Figure size 600x300 with 1 Axes>"
      ]
     },
     "metadata": {},
     "output_type": "display_data"
    },
    {
     "name": "stdout",
     "output_type": "stream",
     "text": [
      "Mean age of passengers who survived: 30.27\n",
      "Mean age of passengers who did not survive: 30.27\n"
     ]
    }
   ],
   "source": [
    "# Calculate the mean age of passengers who survived and those who did not survive\n",
    "mean_age_survived = df[df['Survived'] == 1]['Age'].mean()\n",
    "mean_age_not_survived = df[df['Survived'] == 0]['Age'].mean()\n",
    "\n",
    "# Create a bar plot to visualize the mean ages\n",
    "plt.figure(figsize=(6, 3))\n",
    "sns.barplot(x=['Survived', 'Not Survived'], y=[mean_age_survived, mean_age_not_survived], palette='Paired')\n",
    "plt.title('Mean Age of Passengers by Survival Status')\n",
    "plt.xlabel('Survival Status')\n",
    "plt.ylabel('Mean Age')\n",
    "plt.show()\n",
    "\n",
    "# Print the mean ages\n",
    "print(f'Mean age of passengers who survived: {mean_age_survived:.2f}')\n",
    "print(f'Mean age of passengers who did not survive: {mean_age_not_survived:.2f}')"
   ]
  },
  {
   "cell_type": "markdown",
   "id": "29e3eb4f",
   "metadata": {
    "papermill": {
     "duration": 0.039773,
     "end_time": "2023-11-06T18:41:49.246973",
     "exception": false,
     "start_time": "2023-11-06T18:41:49.207200",
     "status": "completed"
    },
    "tags": []
   },
   "source": [
    "# Add New Column Age Category"
   ]
  },
  {
   "cell_type": "code",
   "execution_count": null,
   "id": "d86fc851",
   "metadata": {
    "execution": {
     "iopub.execute_input": "2023-11-06T18:41:49.328119Z",
     "iopub.status.busy": "2023-11-06T18:41:49.327668Z",
     "iopub.status.idle": "2023-11-06T18:41:49.694475Z",
     "shell.execute_reply": "2023-11-06T18:41:49.692956Z"
    },
    "papermill": {
     "duration": 0.411367,
     "end_time": "2023-11-06T18:41:49.697157",
     "exception": false,
     "start_time": "2023-11-06T18:41:49.285790",
     "status": "completed"
    },
    "tags": []
   },
   "outputs": [
    {
     "data": {
      "image/png": "[encoded data removed]",
      "text/plain": [
       "<Figure size 600x300 with 1 Axes>"
      ]
     },
     "metadata": {},
     "output_type": "display_data"
    },
    {
     "name": "stdout",
     "output_type": "stream",
     "text": [
      "Number of Men, Women, and Children by Age Category:\n",
      "Age Category  Child  Teenager  Young Adult  Adult  Senior\n",
      "Sex                                                      \n",
      "female           10         7           54     40      16\n",
      "male             13        11           90     71      20\n"
     ]
    }
   ],
   "source": [
    "# Define age categories\n",
    "bins = [0, 12, 18, 30, 50, 100]\n",
    "labels = ['Child', 'Teenager', 'Young Adult', 'Adult', 'Senior']\n",
    "\n",
    "# Add the \"Age Category\" column to the DataFrame\n",
    "df['Age Category'] = pd.cut(df['Age'], bins=bins, labels=labels, right=False)\n",
    "\n",
    "# Create a bar plot to visualize survival distribution within each age category\n",
    "plt.figure(figsize=(6, 3))\n",
    "sns.countplot(data=df, x='Age Category', hue='Survived', palette='coolwarm')\n",
    "plt.title('Survival Distribution within Age Categories')\n",
    "plt.xlabel('Age Category')\n",
    "plt.ylabel('Number of Passengers')\n",
    "plt.legend(title='Survived', labels=['Not Survived', 'Survived'])\n",
    "plt.show()\n",
    "\n",
    "\n",
    "# Count the number of men, women, and children based on sex and age category\n",
    "count_by_sex_age = df.groupby(['Sex', 'Age Category']).size().unstack()\n",
    "\n",
    "# Print the counts\n",
    "print('Number of Men, Women, and Children by Age Category:')\n",
    "print(count_by_sex_age)\n"
   ]
  },
  {
   "cell_type": "markdown",
   "id": "512c9985",
   "metadata": {
    "papermill": {
     "duration": 0.038691,
     "end_time": "2023-11-06T18:41:49.775175",
     "exception": false,
     "start_time": "2023-11-06T18:41:49.736484",
     "status": "completed"
    },
    "tags": []
   },
   "source": [
    "# Survived Rate According to Port\n"
   ]
  },
  {
   "cell_type": "code",
   "execution_count": null,
   "id": "eef176c0",
   "metadata": {
    "execution": {
     "iopub.execute_input": "2023-11-06T18:41:49.856424Z",
     "iopub.status.busy": "2023-11-06T18:41:49.855998Z",
     "iopub.status.idle": "2023-11-06T18:41:50.126741Z",
     "shell.execute_reply": "2023-11-06T18:41:50.125376Z"
    },
    "papermill": {
     "duration": 0.315041,
     "end_time": "2023-11-06T18:41:50.129536",
     "exception": false,
     "start_time": "2023-11-06T18:41:49.814495",
     "status": "completed"
    },
    "tags": []
   },
   "outputs": [
    {
     "data": {
      "image/png": "[encoded data removed]",
      "text/plain": [
       "<Figure size 600x300 with 1 Axes>"
      ]
     },
     "metadata": {},
     "output_type": "display_data"
    },
    {
     "name": "stdout",
     "output_type": "stream",
     "text": [
      "Survival Rate by Port of Embarkation:\n",
      "Embarked\n",
      "C    0.392157\n",
      "Q    0.521739\n",
      "S    0.325926\n",
      "Name: Survived, dtype: float64\n"
     ]
    }
   ],
   "source": [
    "# Calculate survival rate by port of embarkation\n",
    "survival_rate_by_port = df.groupby('Embarked')['Survived'].mean()\n",
    "\n",
    "# Create a bar plot to visualize survival rate by port of embarkation\n",
    "plt.figure(figsize=(6, 3))\n",
    "sns.barplot(x=survival_rate_by_port.index, y=survival_rate_by_port.values, palette='YlGnBu')\n",
    "plt.title('Survival Rate by Port of Embarkation')\n",
    "plt.xlabel('Embarkation Port')\n",
    "plt.ylabel('Survival Rate')\n",
    "plt.show()\n",
    "\n",
    "# Print the survival rate by port of embarkation\n",
    "print('Survival Rate by Port of Embarkation:')\n",
    "print(survival_rate_by_port)\n"
   ]
  },
  {
   "cell_type": "markdown",
   "id": "c1e731cb",
   "metadata": {
    "papermill": {
     "duration": 0.039098,
     "end_time": "2023-11-06T18:41:50.210223",
     "exception": false,
     "start_time": "2023-11-06T18:41:50.171125",
     "status": "completed"
    },
    "tags": []
   },
   "source": [
    "# **Lets Visualize **"
   ]
  },
  {
   "cell_type": "markdown",
   "id": "e2ee3543",
   "metadata": {
    "papermill": {
     "duration": 0.0399,
     "end_time": "2023-11-06T18:41:50.291995",
     "exception": false,
     "start_time": "2023-11-06T18:41:50.252095",
     "status": "completed"
    },
    "tags": []
   },
   "source": [
    "# Sex Ratio"
   ]
  },
  {
   "cell_type": "code",
   "execution_count": null,
   "id": "007a92d1",
   "metadata": {
    "execution": {
     "iopub.execute_input": "2023-11-06T18:41:50.374774Z",
     "iopub.status.busy": "2023-11-06T18:41:50.374350Z",
     "iopub.status.idle": "2023-11-06T18:41:50.380729Z",
     "shell.execute_reply": "2023-11-06T18:41:50.379497Z"
    },
    "papermill": {
     "duration": 0.050607,
     "end_time": "2023-11-06T18:41:50.383089",
     "exception": false,
     "start_time": "2023-11-06T18:41:50.332482",
     "status": "completed"
    },
    "tags": []
   },
   "outputs": [
    {
     "name": "stdout",
     "output_type": "stream",
     "text": [
      "Sex Ratio in Titanic Dataset:\n",
      "male      266\n",
      "female    152\n",
      "Name: Sex, dtype: int64\n"
     ]
    }
   ],
   "source": [
    "# Print the sex ratio\n",
    "print('Sex Ratio in Titanic Dataset:')\n",
    "print(sex_counts)\n"
   ]
  },
  {
   "cell_type": "markdown",
   "id": "2a5265c9",
   "metadata": {
    "papermill": {
     "duration": 0.040289,
     "end_time": "2023-11-06T18:41:50.462939",
     "exception": false,
     "start_time": "2023-11-06T18:41:50.422650",
     "status": "completed"
    },
    "tags": []
   },
   "source": [
    "# Survival Rate"
   ]
  },
  {
   "cell_type": "code",
   "execution_count": null,
   "id": "7e2527e7",
   "metadata": {
    "execution": {
     "iopub.execute_input": "2023-11-06T18:41:50.544121Z",
     "iopub.status.busy": "2023-11-06T18:41:50.543642Z",
     "iopub.status.idle": "2023-11-06T18:41:50.798506Z",
     "shell.execute_reply": "2023-11-06T18:41:50.796999Z"
    },
    "papermill": {
     "duration": 0.298863,
     "end_time": "2023-11-06T18:41:50.801357",
     "exception": false,
     "start_time": "2023-11-06T18:41:50.502494",
     "status": "completed"
    },
    "tags": []
   },
   "outputs": [
    {
     "data": {
      "image/png": "[encoded data removed]",
      "text/plain": [
       "<Figure size 600x300 with 1 Axes>"
      ]
     },
     "metadata": {},
     "output_type": "display_data"
    },
    {
     "name": "stdout",
     "output_type": "stream",
     "text": [
      "Survival Rate by Sex:\n",
      "Sex\n",
      "female    1.0\n",
      "male      0.0\n",
      "Name: Survived, dtype: float64\n"
     ]
    }
   ],
   "source": [
    "# Calculate survival rate by sex\n",
    "survival_rate_by_sex = df.groupby('Sex')['Survived'].mean()\n",
    "\n",
    "# Create a bar plot to visualize survival rate by sex\n",
    "plt.figure(figsize=(6, 3))\n",
    "sns.barplot(x=survival_rate_by_sex.index, y=survival_rate_by_sex.values, palette='Set2')\n",
    "plt.title('Survival Rate by Sex')\n",
    "plt.xlabel('Sex')\n",
    "plt.ylabel('Survival Rate')\n",
    "plt.show()\n",
    "\n",
    "# Print the survival rate by sex\n",
    "print('Survival Rate by Sex:')\n",
    "print(survival_rate_by_sex)"
   ]
  },
  {
   "cell_type": "markdown",
   "id": "5daf04ce",
   "metadata": {
    "papermill": {
     "duration": 0.039926,
     "end_time": "2023-11-06T18:41:50.881327",
     "exception": false,
     "start_time": "2023-11-06T18:41:50.841401",
     "status": "completed"
    },
    "tags": []
   },
   "source": [
    "# Men and Women & Child"
   ]
  },
  {
   "cell_type": "code",
   "execution_count": null,
   "id": "e233d1e0",
   "metadata": {
    "execution": {
     "iopub.execute_input": "2023-11-06T18:41:50.966074Z",
     "iopub.status.busy": "2023-11-06T18:41:50.965642Z",
     "iopub.status.idle": "2023-11-06T18:41:51.243265Z",
     "shell.execute_reply": "2023-11-06T18:41:51.242037Z"
    },
    "papermill": {
     "duration": 0.322993,
     "end_time": "2023-11-06T18:41:51.246397",
     "exception": false,
     "start_time": "2023-11-06T18:41:50.923404",
     "status": "completed"
    },
    "tags": []
   },
   "outputs": [
    {
     "data": {
      "image/png": "[encoded data removed]",
      "text/plain": [
       "<Figure size 600x300 with 1 Axes>"
      ]
     },
     "metadata": {},
     "output_type": "display_data"
    },
    {
     "name": "stdout",
     "output_type": "stream",
     "text": [
      "Number of Men, Women, and Children:\n",
      "Men: 253\n",
      "Women: 142\n",
      "Children: 23\n"
     ]
    }
   ],
   "source": [
    "# Count the number of men, women, and children\n",
    "men_count = len(df[(df['Sex'] == 'male') & (df['Age Category'] != 'Child')])\n",
    "women_count = len(df[(df['Sex'] == 'female') & (df['Age Category'] != 'Child')])\n",
    "child_count = len(df[df['Age Category'] == 'Child'])\n",
    "\n",
    "# Create a bar plot to visualize the count of men, women, and children\n",
    "plt.figure(figsize=(6, 3))\n",
    "sns.barplot(x=['Men', 'Women', 'Child'], y=[men_count, women_count, child_count], palette='copper')\n",
    "plt.title('Number of Men, Women, and Children in Titanic Dataset')\n",
    "plt.xlabel('Category')\n",
    "plt.ylabel('Number of Passengers')\n",
    "plt.show()\n",
    "\n",
    "# Print the counts\n",
    "print('Number of Men, Women, and Children:')\n",
    "print(f'Men: {men_count}')\n",
    "print(f'Women: {women_count}')\n",
    "print(f'Children: {child_count}')"
   ]
  },
  {
   "cell_type": "markdown",
   "id": "ef054a86",
   "metadata": {
    "papermill": {
     "duration": 0.040317,
     "end_time": "2023-11-06T18:41:51.327849",
     "exception": false,
     "start_time": "2023-11-06T18:41:51.287532",
     "status": "completed"
    },
    "tags": []
   },
   "source": [
    "# Age Distribution of passengers"
   ]
  },
  {
   "cell_type": "code",
   "execution_count": null,
   "id": "0ec7894c",
   "metadata": {
    "execution": {
     "iopub.execute_input": "2023-11-06T18:41:51.411411Z",
     "iopub.status.busy": "2023-11-06T18:41:51.410922Z",
     "iopub.status.idle": "2023-11-06T18:41:51.771737Z",
     "shell.execute_reply": "2023-11-06T18:41:51.770456Z"
    },
    "papermill": {
     "duration": 0.405602,
     "end_time": "2023-11-06T18:41:51.774343",
     "exception": false,
     "start_time": "2023-11-06T18:41:51.368741",
     "status": "completed"
    },
    "tags": []
   },
   "outputs": [
    {
     "data": {
      "image/png": "[encoded data removed]",
      "text/plain": [
       "<Figure size 600x300 with 1 Axes>"
      ]
     },
     "metadata": {},
     "output_type": "display_data"
    }
   ],
   "source": [
    "\n",
    "# Create a histogram of passenger ages\n",
    "plt.figure(figsize=(6, 3))\n",
    "sns.histplot(data=df, x='Age', bins=20, kde=True, color='skyblue')\n",
    "plt.title('Age Distribution of Passengers')\n",
    "plt.xlabel('Age')\n",
    "plt.ylabel('Number of Passengers')\n",
    "plt.show()\n"
   ]
  },
  {
   "cell_type": "markdown",
   "id": "02849e69",
   "metadata": {
    "papermill": {
     "duration": 0.040849,
     "end_time": "2023-11-06T18:41:51.856054",
     "exception": false,
     "start_time": "2023-11-06T18:41:51.815205",
     "status": "completed"
    },
    "tags": []
   },
   "source": [
    "# Show the Age Distribution of According to Age"
   ]
  },
  {
   "cell_type": "code",
   "execution_count": null,
   "id": "cfa0c940",
   "metadata": {
    "execution": {
     "iopub.execute_input": "2023-11-06T18:41:51.942442Z",
     "iopub.status.busy": "2023-11-06T18:41:51.942035Z",
     "iopub.status.idle": "2023-11-06T18:41:52.441163Z",
     "shell.execute_reply": "2023-11-06T18:41:52.439767Z"
    },
    "papermill": {
     "duration": 0.545604,
     "end_time": "2023-11-06T18:41:52.443980",
     "exception": false,
     "start_time": "2023-11-06T18:41:51.898376",
     "status": "completed"
    },
    "tags": []
   },
   "outputs": [
    {
     "data": {
      "image/png": "[encoded data removed]",
      "text/plain": [
       "<Figure size 600x300 with 1 Axes>"
      ]
     },
     "metadata": {},
     "output_type": "display_data"
    }
   ],
   "source": [
    "# Create separate dataframes for passengers who survived and those who did not\n",
    "survived = df[df['Survived'] == 1]\n",
    "not_survived = df[df['Survived'] == 0]\n",
    "\n",
    "# Create histograms to visualize the age distribution for both groups\n",
    "plt.figure(figsize=(6, 3))\n",
    "sns.histplot(data=survived, x='Age', bins=20, kde=True, color='green', label='Survived')\n",
    "sns.histplot(data=not_survived, x='Age', bins=20, kde=True, color='red', label='Not Survived')\n",
    "plt.title('Age Distribution of Passengers by Survival Status')\n",
    "plt.xlabel('Age')\n",
    "plt.ylabel('Number of Passengers')\n",
    "plt.legend()\n",
    "plt.show()"
   ]
  },
  {
   "cell_type": "code",
   "execution_count": null,
   "id": "0c63830f",
   "metadata": {
    "execution": {
     "iopub.execute_input": "2023-11-06T18:41:52.532206Z",
     "iopub.status.busy": "2023-11-06T18:41:52.531035Z",
     "iopub.status.idle": "2023-11-06T18:41:52.542465Z",
     "shell.execute_reply": "2023-11-06T18:41:52.540979Z"
    },
    "papermill": {
     "duration": 0.058414,
     "end_time": "2023-11-06T18:41:52.545448",
     "exception": false,
     "start_time": "2023-11-06T18:41:52.487034",
     "status": "completed"
    },
    "tags": []
   },
   "outputs": [
    {
     "data": {
      "text/plain": [
       "PassengerId       0\n",
       "Survived          0\n",
       "Pclass            0\n",
       "Name              0\n",
       "Sex               0\n",
       "Age              86\n",
       "SibSp             0\n",
       "Parch             0\n",
       "Ticket            0\n",
       "Fare              1\n",
       "Cabin           327\n",
       "Embarked          0\n",
       "FamilySize        0\n",
       "Age Category     86\n",
       "dtype: int64"
      ]
     },
     "execution_count": 34,
     "metadata": {},
     "output_type": "execute_result"
    }
   ],
   "source": [
    "df.isnull().sum()"
   ]
  },
  {
   "cell_type": "markdown",
   "id": "4dba2e54",
   "metadata": {
    "papermill": {
     "duration": 0.042318,
     "end_time": "2023-11-06T18:41:52.634229",
     "exception": false,
     "start_time": "2023-11-06T18:41:52.591911",
     "status": "completed"
    },
    "tags": []
   },
   "source": [
    "# Create a Function of Survived"
   ]
  },
  {
   "cell_type": "code",
   "execution_count": null,
   "id": "babdeead",
   "metadata": {
    "execution": {
     "iopub.execute_input": "2023-11-06T18:41:52.721350Z",
     "iopub.status.busy": "2023-11-06T18:41:52.720465Z",
     "iopub.status.idle": "2023-11-06T18:41:52.985844Z",
     "shell.execute_reply": "2023-11-06T18:41:52.984637Z"
    },
    "papermill": {
     "duration": 0.311756,
     "end_time": "2023-11-06T18:41:52.988556",
     "exception": false,
     "start_time": "2023-11-06T18:41:52.676800",
     "status": "completed"
    },
    "tags": []
   },
   "outputs": [
    {
     "name": "stdout",
     "output_type": "stream",
     "text": [
      "Total passengers who survived: 152\n",
      "Total passengers who did not survive: 266\n"
     ]
    },
    {
     "data": {
      "image/png": "[encoded data removed]",
      "text/plain": [
       "<Figure size 600x300 with 1 Axes>"
      ]
     },
     "metadata": {},
     "output_type": "display_data"
    }
   ],
   "source": [
    "def show_total_survived(data):\n",
    "    total_survived = data['Survived'].sum()\n",
    "    total_not_survived = data.shape[0] - total_survived\n",
    "\n",
    "    print(f'Total passengers who survived: {total_survived}')\n",
    "    print(f'Total passengers who did not survive: {total_not_survived}')\n",
    "    \n",
    "     # Create a bar plot\n",
    "    plt.figure(figsize=(6, 3))\n",
    "    sns.barplot(x=['Survived', 'Not Survived'], y=[total_survived, total_not_survived], palette='Set1')\n",
    "    plt.title('Total Passengers Survived vs Not Survived')\n",
    "    plt.xlabel('Survival Status')\n",
    "    plt.ylabel('Number of Passengers')\n",
    "    plt.show()\n",
    "\n",
    "# Call the function with your Titanic dataset\n",
    "show_total_survived(df)\n"
   ]
  },
  {
   "cell_type": "markdown",
   "id": "a97cca25",
   "metadata": {
    "papermill": {
     "duration": 0.04357,
     "end_time": "2023-11-06T18:41:53.077731",
     "exception": false,
     "start_time": "2023-11-06T18:41:53.034161",
     "status": "completed"
    },
    "tags": []
   },
   "source": [
    "# Survived vs Not Not Survived"
   ]
  },
  {
   "cell_type": "code",
   "execution_count": null,
   "id": "5df82b23",
   "metadata": {
    "execution": {
     "iopub.execute_input": "2023-11-06T18:41:53.169877Z",
     "iopub.status.busy": "2023-11-06T18:41:53.169491Z",
     "iopub.status.idle": "2023-11-06T18:41:53.514961Z",
     "shell.execute_reply": "2023-11-06T18:41:53.513442Z"
    },
    "papermill": {
     "duration": 0.394376,
     "end_time": "2023-11-06T18:41:53.517758",
     "exception": false,
     "start_time": "2023-11-06T18:41:53.123382",
     "status": "completed"
    },
    "tags": []
   },
   "outputs": [
    {
     "data": {
      "image/png": "[encoded data removed]",
      "text/plain": [
       "<Figure size 600x300 with 1 Axes>"
      ]
     },
     "metadata": {},
     "output_type": "display_data"
    }
   ],
   "source": [
    "def survival_vs_not_survival_by_class(data):\n",
    "    plt.figure(figsize=(6, 3))\n",
    "    sns.countplot(data=data, x='Pclass', hue='Survived', palette='Set1_r')\n",
    "    plt.title('Survival vs Not Survival in Each Passenger Class')\n",
    "    plt.xlabel('Passenger Class')\n",
    "    plt.ylabel('Number of Passengers')\n",
    "    plt.legend(title='Survival Status', labels=['Not Survived', 'Survived'])\n",
    "    plt.show()\n",
    "\n",
    "# Call the function with your Titanic dataset\n",
    "survival_vs_not_survival_by_class(df)"
   ]
  },
  {
   "cell_type": "markdown",
   "id": "072f507b",
   "metadata": {
    "papermill": {
     "duration": 0.044207,
     "end_time": "2023-11-06T18:41:53.616132",
     "exception": false,
     "start_time": "2023-11-06T18:41:53.571925",
     "status": "completed"
    },
    "tags": []
   },
   "source": [
    "# Show the Total Passengers Gender according to Each Class"
   ]
  },
  {
   "cell_type": "code",
   "execution_count": null,
   "id": "aabaa132",
   "metadata": {
    "execution": {
     "iopub.execute_input": "2023-11-06T18:41:53.712779Z",
     "iopub.status.busy": "2023-11-06T18:41:53.712257Z",
     "iopub.status.idle": "2023-11-06T18:41:54.040789Z",
     "shell.execute_reply": "2023-11-06T18:41:54.039696Z"
    },
    "papermill": {
     "duration": 0.383126,
     "end_time": "2023-11-06T18:41:54.044176",
     "exception": false,
     "start_time": "2023-11-06T18:41:53.661050",
     "status": "completed"
    },
    "tags": []
   },
   "outputs": [
    {
     "data": {
      "image/png": "[encoded data removed]",
      "text/plain": [
       "<Figure size 600x300 with 1 Axes>"
      ]
     },
     "metadata": {},
     "output_type": "display_data"
    }
   ],
   "source": [
    "def gender_distribution_by_class(data):\n",
    "    plt.figure(figsize=(6, 3))\n",
    "    sns.countplot(data=data, x='Pclass', hue='Sex', palette='Pastel1')\n",
    "    plt.title('Gender Distribution in Each Passenger Class')\n",
    "    plt.xlabel('Passenger Class')\n",
    "    plt.ylabel('Number of Passengers')\n",
    "    plt.legend(title='Gender', labels=['Female', 'Male'], loc='upper right')\n",
    "    plt.show()\n",
    "\n",
    "# Call the function with your Titanic dataset\n",
    "gender_distribution_by_class(df)"
   ]
  },
  {
   "cell_type": "markdown",
   "id": "eba2f78f",
   "metadata": {
    "papermill": {
     "duration": 0.04585,
     "end_time": "2023-11-06T18:41:54.140332",
     "exception": false,
     "start_time": "2023-11-06T18:41:54.094482",
     "status": "completed"
    },
    "tags": []
   },
   "source": [
    "# **Let's start Machine Learning Model **"
   ]
  },
  {
   "cell_type": "markdown",
   "id": "5b4a7dce",
   "metadata": {
    "papermill": {
     "duration": 0.044164,
     "end_time": "2023-11-06T18:41:54.229544",
     "exception": false,
     "start_time": "2023-11-06T18:41:54.185380",
     "status": "completed"
    },
    "tags": []
   },
   "source": [
    "# Listing most related continious values to target"
   ]
  },
  {
   "cell_type": "code",
   "execution_count": null,
   "id": "61264a71",
   "metadata": {
    "execution": {
     "iopub.execute_input": "2023-11-06T18:41:54.325101Z",
     "iopub.status.busy": "2023-11-06T18:41:54.323549Z",
     "iopub.status.idle": "2023-11-06T18:41:54.437343Z",
     "shell.execute_reply": "2023-11-06T18:41:54.436051Z"
    },
    "papermill": {
     "duration": 0.166547,
     "end_time": "2023-11-06T18:41:54.440566",
     "exception": false,
     "start_time": "2023-11-06T18:41:54.274019",
     "status": "completed"
    },
    "tags": []
   },
   "outputs": [
    {
     "data": {
      "text/html": [
       "<style type=\"text/css\">\n",
       "#T_0579b_row0_col2 {\n",
       "  background-color: #008066;\n",
       "  color: #f1f1f1;\n",
       "}\n",
       "#T_0579b_row1_col2 {\n",
       "  background-color: #cfe766;\n",
       "  color: #000000;\n",
       "}\n",
       "#T_0579b_row2_col2 {\n",
       "  background-color: #ffff66;\n",
       "  color: #000000;\n",
       "}\n",
       "</style>\n",
       "<table id=\"T_0579b\">\n",
       "  <thead>\n",
       "    <tr>\n",
       "      <th class=\"blank level0\" >&nbsp;</th>\n",
       "      <th id=\"T_0579b_level0_col0\" class=\"col_heading level0 col0\" >Feature A</th>\n",
       "      <th id=\"T_0579b_level0_col1\" class=\"col_heading level0 col1\" >Feature B</th>\n",
       "      <th id=\"T_0579b_level0_col2\" class=\"col_heading level0 col2\" >Correlation Coefficient</th>\n",
       "    </tr>\n",
       "  </thead>\n",
       "  <tbody>\n",
       "    <tr>\n",
       "      <th id=\"T_0579b_level0_row0\" class=\"row_heading level0 row0\" >0</th>\n",
       "      <td id=\"T_0579b_row0_col0\" class=\"data row0 col0\" >Survived</td>\n",
       "      <td id=\"T_0579b_row0_col1\" class=\"data row0 col1\" >Survived</td>\n",
       "      <td id=\"T_0579b_row0_col2\" class=\"data row0 col2\" >1.000000</td>\n",
       "    </tr>\n",
       "    <tr>\n",
       "      <th id=\"T_0579b_level0_row1\" class=\"row_heading level0 row1\" >5</th>\n",
       "      <td id=\"T_0579b_row1_col0\" class=\"data row1 col0\" >Survived</td>\n",
       "      <td id=\"T_0579b_row1_col1\" class=\"data row1 col1\" >Fare</td>\n",
       "      <td id=\"T_0579b_row1_col2\" class=\"data row1 col2\" >0.204978</td>\n",
       "    </tr>\n",
       "    <tr>\n",
       "      <th id=\"T_0579b_level0_row2\" class=\"row_heading level0 row2\" >7</th>\n",
       "      <td id=\"T_0579b_row2_col0\" class=\"data row2 col0\" >Survived</td>\n",
       "      <td id=\"T_0579b_row2_col1\" class=\"data row2 col1\" >Age</td>\n",
       "      <td id=\"T_0579b_row2_col2\" class=\"data row2 col2\" >0.020605</td>\n",
       "    </tr>\n",
       "  </tbody>\n",
       "</table>\n"
      ],
      "text/plain": [
       "<pandas.io.formats.style.Styler at 0x7d71ba67c6a0>"
      ]
     },
     "execution_count": 38,
     "metadata": {},
     "output_type": "execute_result"
    }
   ],
   "source": [
    "train_corr = df[['Survived', 'Age', 'Fare'\n",
    "                      ]].corr(method='spearman').abs().unstack().sort_values(\n",
    "                          kind='quicksort', ascending=False).reset_index()\n",
    "train_corr.rename(columns={\n",
    "    'level_0': 'Feature A',\n",
    "    'level_1': 'Feature B',\n",
    "    0: 'Correlation Coefficient'\n",
    "},\n",
    "                  inplace=True)\n",
    "train_corr[(train_corr['Feature A'] == 'Survived')].style.background_gradient(\n",
    "    cmap='summer_r')"
   ]
  },
  {
   "cell_type": "markdown",
   "id": "a2ceaabc",
   "metadata": {
    "papermill": {
     "duration": 0.044712,
     "end_time": "2023-11-06T18:41:54.533713",
     "exception": false,
     "start_time": "2023-11-06T18:41:54.489001",
     "status": "completed"
    },
    "tags": []
   },
   "source": [
    "# now lets consider only survived, age and fare"
   ]
  },
  {
   "cell_type": "code",
   "execution_count": null,
   "id": "4550d853",
   "metadata": {
    "execution": {
     "iopub.execute_input": "2023-11-06T18:41:54.628102Z",
     "iopub.status.busy": "2023-11-06T18:41:54.627633Z",
     "iopub.status.idle": "2023-11-06T18:41:54.639590Z",
     "shell.execute_reply": "2023-11-06T18:41:54.638181Z"
    },
    "papermill": {
     "duration": 0.062021,
     "end_time": "2023-11-06T18:41:54.642499",
     "exception": false,
     "start_time": "2023-11-06T18:41:54.580478",
     "status": "completed"
    },
    "tags": []
   },
   "outputs": [
    {
     "name": "stdout",
     "output_type": "stream",
     "text": [
      "Correlation between selected features:\n",
      "          Survived       Age      Fare\n",
      "Survived  1.000000 -0.000013  0.191514\n",
      "Age      -0.000013  1.000000  0.337932\n",
      "Fare      0.191514  0.337932  1.000000\n"
     ]
    }
   ],
   "source": [
    "# Select columns of interest\n",
    "selected_columns = ['Survived', 'Age', 'Fare']\n",
    "selected_data = df[selected_columns]\n",
    "\n",
    "# Calculate correlations between selected features\n",
    "correlations = selected_data.corr()\n",
    "\n",
    "# Print the correlations\n",
    "print('Correlation between selected features:')\n",
    "print(correlations)"
   ]
  },
  {
   "cell_type": "markdown",
   "id": "e59d0a55",
   "metadata": {
    "papermill": {
     "duration": 0.044378,
     "end_time": "2023-11-06T18:41:54.732974",
     "exception": false,
     "start_time": "2023-11-06T18:41:54.688596",
     "status": "completed"
    },
    "tags": []
   },
   "source": [
    "# Missing values"
   ]
  },
  {
   "cell_type": "code",
   "execution_count": null,
   "id": "a1b9fda9",
   "metadata": {
    "execution": {
     "iopub.execute_input": "2023-11-06T18:41:54.824615Z",
     "iopub.status.busy": "2023-11-06T18:41:54.824207Z",
     "iopub.status.idle": "2023-11-06T18:41:54.835659Z",
     "shell.execute_reply": "2023-11-06T18:41:54.834415Z"
    },
    "papermill": {
     "duration": 0.059482,
     "end_time": "2023-11-06T18:41:54.838251",
     "exception": false,
     "start_time": "2023-11-06T18:41:54.778769",
     "status": "completed"
    },
    "tags": []
   },
   "outputs": [
    {
     "data": {
      "text/plain": [
       "PassengerId       0\n",
       "Survived          0\n",
       "Pclass            0\n",
       "Name              0\n",
       "Sex               0\n",
       "Age              86\n",
       "SibSp             0\n",
       "Parch             0\n",
       "Ticket            0\n",
       "Fare              1\n",
       "Cabin           327\n",
       "Embarked          0\n",
       "FamilySize        0\n",
       "Age Category     86\n",
       "dtype: int64"
      ]
     },
     "execution_count": 40,
     "metadata": {},
     "output_type": "execute_result"
    }
   ],
   "source": [
    "df.isnull().sum()"
   ]
  },
  {
   "cell_type": "markdown",
   "id": "40a835d5",
   "metadata": {
    "papermill": {
     "duration": 0.044646,
     "end_time": "2023-11-06T18:41:54.927481",
     "exception": false,
     "start_time": "2023-11-06T18:41:54.882835",
     "status": "completed"
    },
    "tags": []
   },
   "source": [
    "# Import the library"
   ]
  },
  {
   "cell_type": "code",
   "execution_count": null,
   "id": "5f72f75a",
   "metadata": {
    "execution": {
     "iopub.execute_input": "2023-11-06T18:41:55.020775Z",
     "iopub.status.busy": "2023-11-06T18:41:55.019926Z",
     "iopub.status.idle": "2023-11-06T18:41:55.500866Z",
     "shell.execute_reply": "2023-11-06T18:41:55.499317Z"
    },
    "papermill": {
     "duration": 0.530083,
     "end_time": "2023-11-06T18:41:55.503857",
     "exception": false,
     "start_time": "2023-11-06T18:41:54.973774",
     "status": "completed"
    },
    "tags": []
   },
   "outputs": [],
   "source": [
    "from sklearn.model_selection import train_test_split\n",
    "from sklearn.linear_model import LogisticRegression\n",
    "from sklearn.metrics import accuracy_score"
   ]
  },
  {
   "cell_type": "code",
   "execution_count": null,
   "id": "02a85f64",
   "metadata": {
    "execution": {
     "iopub.execute_input": "2023-11-06T18:41:55.594736Z",
     "iopub.status.busy": "2023-11-06T18:41:55.594307Z",
     "iopub.status.idle": "2023-11-06T18:41:55.608893Z",
     "shell.execute_reply": "2023-11-06T18:41:55.607313Z"
    },
    "papermill": {
     "duration": 0.064082,
     "end_time": "2023-11-06T18:41:55.612506",
     "exception": false,
     "start_time": "2023-11-06T18:41:55.548424",
     "status": "completed"
    },
    "tags": []
   },
   "outputs": [
    {
     "name": "stdout",
     "output_type": "stream",
     "text": [
      "   PassengerId  Survived  Pclass  \\\n",
      "0          892         0       3   \n",
      "1          893         1       3   \n",
      "2          894         0       2   \n",
      "3          895         0       3   \n",
      "4          896         1       3   \n",
      "\n",
      "                                           Name     Sex   Age  SibSp  Parch  \\\n",
      "0                              Kelly, Mr. James    male  34.5      0      0   \n",
      "1              Wilkes, Mrs. James (Ellen Needs)  female  47.0      1      0   \n",
      "2                     Myles, Mr. Thomas Francis    male  62.0      0      0   \n",
      "3                              Wirz, Mr. Albert    male  27.0      0      0   \n",
      "4  Hirvonen, Mrs. Alexander (Helga E Lindqvist)  female  22.0      1      1   \n",
      "\n",
      "    Ticket     Fare Embarked  FamilySize Age Category  \n",
      "0   330911   7.8292        Q           1        Adult  \n",
      "1   363272   7.0000        S           2        Adult  \n",
      "2   240276   9.6875        Q           1       Senior  \n",
      "3   315154   8.6625        S           1  Young Adult  \n",
      "4  3101298  12.2875        S           3  Young Adult  \n"
     ]
    }
   ],
   "source": [
    "df= df.drop(columns='Cabin', axis=1)\n",
    "\n",
    "# Print the updated DataFrame\n",
    "print(df.head())\n"
   ]
  },
  {
   "cell_type": "markdown",
   "id": "11087099",
   "metadata": {
    "papermill": {
     "duration": 0.043478,
     "end_time": "2023-11-06T18:41:55.701236",
     "exception": false,
     "start_time": "2023-11-06T18:41:55.657758",
     "status": "completed"
    },
    "tags": []
   },
   "source": [
    "# Replacing the missing values in \"Age\" column with mean value"
   ]
  },
  {
   "cell_type": "code",
   "execution_count": null,
   "id": "cf11ccaf",
   "metadata": {
    "execution": {
     "iopub.execute_input": "2023-11-06T18:41:55.791721Z",
     "iopub.status.busy": "2023-11-06T18:41:55.790505Z",
     "iopub.status.idle": "2023-11-06T18:41:55.798286Z",
     "shell.execute_reply": "2023-11-06T18:41:55.796865Z"
    },
    "papermill": {
     "duration": 0.05582,
     "end_time": "2023-11-06T18:41:55.800937",
     "exception": false,
     "start_time": "2023-11-06T18:41:55.745117",
     "status": "completed"
    },
    "tags": []
   },
   "outputs": [],
   "source": [
    "df['Age'].fillna(df['Age'].mean(), inplace=True)"
   ]
  },
  {
   "cell_type": "markdown",
   "id": "aa17b684",
   "metadata": {
    "papermill": {
     "duration": 0.044508,
     "end_time": "2023-11-06T18:41:55.891491",
     "exception": false,
     "start_time": "2023-11-06T18:41:55.846983",
     "status": "completed"
    },
    "tags": []
   },
   "source": [
    "# finding the mode value of \"Embarked\" column"
   ]
  },
  {
   "cell_type": "code",
   "execution_count": null,
   "id": "826fc685",
   "metadata": {
    "execution": {
     "iopub.execute_input": "2023-11-06T18:41:55.986339Z",
     "iopub.status.busy": "2023-11-06T18:41:55.985889Z",
     "iopub.status.idle": "2023-11-06T18:41:55.993588Z",
     "shell.execute_reply": "2023-11-06T18:41:55.992131Z"
    },
    "papermill": {
     "duration": 0.057157,
     "end_time": "2023-11-06T18:41:55.996181",
     "exception": false,
     "start_time": "2023-11-06T18:41:55.939024",
     "status": "completed"
    },
    "tags": []
   },
   "outputs": [
    {
     "name": "stdout",
     "output_type": "stream",
     "text": [
      "0    S\n",
      "Name: Embarked, dtype: object\n"
     ]
    }
   ],
   "source": [
    "print(df['Embarked'].mode())"
   ]
  },
  {
   "cell_type": "markdown",
   "id": "0ecf66fa",
   "metadata": {
    "papermill": {
     "duration": 0.04527,
     "end_time": "2023-11-06T18:41:56.091098",
     "exception": false,
     "start_time": "2023-11-06T18:41:56.045828",
     "status": "completed"
    },
    "tags": []
   },
   "source": [
    "# Replacing the missing values in \"Age Category\" column with mode value"
   ]
  },
  {
   "cell_type": "code",
   "execution_count": null,
   "id": "5f675f54",
   "metadata": {
    "execution": {
     "iopub.execute_input": "2023-11-06T18:41:56.189293Z",
     "iopub.status.busy": "2023-11-06T18:41:56.188839Z",
     "iopub.status.idle": "2023-11-06T18:41:56.196004Z",
     "shell.execute_reply": "2023-11-06T18:41:56.194626Z"
    },
    "papermill": {
     "duration": 0.059512,
     "end_time": "2023-11-06T18:41:56.199130",
     "exception": false,
     "start_time": "2023-11-06T18:41:56.139618",
     "status": "completed"
    },
    "tags": []
   },
   "outputs": [],
   "source": [
    "df['Age Category'].fillna(df['Age Category'].mode()[0], inplace=True)"
   ]
  },
  {
   "cell_type": "markdown",
   "id": "d7cc3b4e",
   "metadata": {
    "papermill": {
     "duration": 0.044444,
     "end_time": "2023-11-06T18:41:56.288028",
     "exception": false,
     "start_time": "2023-11-06T18:41:56.243584",
     "status": "completed"
    },
    "tags": []
   },
   "source": [
    "# Fill missing values in 'Fare' column with the median value"
   ]
  },
  {
   "cell_type": "code",
   "execution_count": null,
   "id": "dc443ec7",
   "metadata": {
    "execution": {
     "iopub.execute_input": "2023-11-06T18:41:56.382517Z",
     "iopub.status.busy": "2023-11-06T18:41:56.381601Z",
     "iopub.status.idle": "2023-11-06T18:41:56.389348Z",
     "shell.execute_reply": "2023-11-06T18:41:56.388043Z"
    },
    "papermill": {
     "duration": 0.056797,
     "end_time": "2023-11-06T18:41:56.392146",
     "exception": false,
     "start_time": "2023-11-06T18:41:56.335349",
     "status": "completed"
    },
    "tags": []
   },
   "outputs": [],
   "source": [
    "median_fare = df['Fare'].median()\n",
    "df['Fare'].fillna(median_fare, inplace=True)"
   ]
  },
  {
   "cell_type": "code",
   "execution_count": null,
   "id": "49fde5f1",
   "metadata": {
    "execution": {
     "iopub.execute_input": "2023-11-06T18:41:56.482776Z",
     "iopub.status.busy": "2023-11-06T18:41:56.482385Z",
     "iopub.status.idle": "2023-11-06T18:41:56.493362Z",
     "shell.execute_reply": "2023-11-06T18:41:56.492180Z"
    },
    "papermill": {
     "duration": 0.05894,
     "end_time": "2023-11-06T18:41:56.495827",
     "exception": false,
     "start_time": "2023-11-06T18:41:56.436887",
     "status": "completed"
    },
    "tags": []
   },
   "outputs": [
    {
     "data": {
      "text/plain": [
       "PassengerId     0\n",
       "Survived        0\n",
       "Pclass          0\n",
       "Name            0\n",
       "Sex             0\n",
       "Age             0\n",
       "SibSp           0\n",
       "Parch           0\n",
       "Ticket          0\n",
       "Fare            0\n",
       "Embarked        0\n",
       "FamilySize      0\n",
       "Age Category    0\n",
       "dtype: int64"
      ]
     },
     "execution_count": 47,
     "metadata": {},
     "output_type": "execute_result"
    }
   ],
   "source": [
    "df.isnull().sum()"
   ]
  },
  {
   "cell_type": "markdown",
   "id": "340b987f",
   "metadata": {
    "papermill": {
     "duration": 0.044544,
     "end_time": "2023-11-06T18:41:56.586075",
     "exception": false,
     "start_time": "2023-11-06T18:41:56.541531",
     "status": "completed"
    },
    "tags": []
   },
   "source": [
    "# #Ignore Age Category and Columns"
   ]
  },
  {
   "cell_type": "markdown",
   "id": "34d6cdc2",
   "metadata": {
    "papermill": {
     "duration": 0.045866,
     "end_time": "2023-11-06T18:41:56.678370",
     "exception": false,
     "start_time": "2023-11-06T18:41:56.632504",
     "status": "completed"
    },
    "tags": []
   },
   "source": [
    "# check the number of missing values in each column"
   ]
  },
  {
   "cell_type": "code",
   "execution_count": null,
   "id": "b9bbb474",
   "metadata": {
    "execution": {
     "iopub.execute_input": "2023-11-06T18:41:56.769721Z",
     "iopub.status.busy": "2023-11-06T18:41:56.769341Z",
     "iopub.status.idle": "2023-11-06T18:41:56.777214Z",
     "shell.execute_reply": "2023-11-06T18:41:56.776449Z"
    },
    "papermill": {
     "duration": 0.056714,
     "end_time": "2023-11-06T18:41:56.779751",
     "exception": false,
     "start_time": "2023-11-06T18:41:56.723037",
     "status": "completed"
    },
    "tags": []
   },
   "outputs": [
    {
     "name": "stdout",
     "output_type": "stream",
     "text": [
      "PassengerId     0\n",
      "Survived        0\n",
      "Pclass          0\n",
      "Name            0\n",
      "Sex             0\n",
      "Age             0\n",
      "SibSp           0\n",
      "Parch           0\n",
      "Ticket          0\n",
      "Fare            0\n",
      "Embarked        0\n",
      "FamilySize      0\n",
      "Age Category    0\n",
      "dtype: int64\n"
     ]
    }
   ],
   "source": [
    "# Verify that missing values have been handled\n",
    "missing_values = df.isnull().sum()\n",
    "print(missing_values)\n"
   ]
  },
  {
   "cell_type": "markdown",
   "id": "047c1344",
   "metadata": {
    "papermill": {
     "duration": 0.045497,
     "end_time": "2023-11-06T18:41:56.870161",
     "exception": false,
     "start_time": "2023-11-06T18:41:56.824664",
     "status": "completed"
    },
    "tags": []
   },
   "source": [
    "# Converting categorical Columns"
   ]
  },
  {
   "cell_type": "code",
   "execution_count": null,
   "id": "2ea1cd47",
   "metadata": {
    "execution": {
     "iopub.execute_input": "2023-11-06T18:41:56.970058Z",
     "iopub.status.busy": "2023-11-06T18:41:56.969572Z",
     "iopub.status.idle": "2023-11-06T18:41:56.979749Z",
     "shell.execute_reply": "2023-11-06T18:41:56.978428Z"
    },
    "papermill": {
     "duration": 0.066762,
     "end_time": "2023-11-06T18:41:56.982232",
     "exception": false,
     "start_time": "2023-11-06T18:41:56.915470",
     "status": "completed"
    },
    "tags": []
   },
   "outputs": [],
   "source": [
    "df.replace({'Sex':{'male':0,'female':1}, 'Embarked':{'S':0,'C':1,'Q':2}}, inplace=True)\n"
   ]
  },
  {
   "cell_type": "markdown",
   "id": "60e5f465",
   "metadata": {
    "papermill": {
     "duration": 0.05715,
     "end_time": "2023-11-06T18:41:57.085265",
     "exception": false,
     "start_time": "2023-11-06T18:41:57.028115",
     "status": "completed"
    },
    "tags": []
   },
   "source": [
    "# Split the Data Into Two parts:"
   ]
  },
  {
   "cell_type": "code",
   "execution_count": null,
   "id": "d6d59beb",
   "metadata": {
    "execution": {
     "iopub.execute_input": "2023-11-06T18:41:57.188085Z",
     "iopub.status.busy": "2023-11-06T18:41:57.186792Z",
     "iopub.status.idle": "2023-11-06T18:41:57.209489Z",
     "shell.execute_reply": "2023-11-06T18:41:57.208183Z"
    },
    "papermill": {
     "duration": 0.073628,
     "end_time": "2023-11-06T18:41:57.212487",
     "exception": false,
     "start_time": "2023-11-06T18:41:57.138859",
     "status": "completed"
    },
    "tags": []
   },
   "outputs": [
    {
     "data": {
      "text/html": [
       "<div>\n",
       "<style scoped>\n",
       "    .dataframe tbody tr th:only-of-type {\n",
       "        vertical-align: middle;\n",
       "    }\n",
       "\n",
       "    .dataframe tbody tr th {\n",
       "        vertical-align: top;\n",
       "    }\n",
       "\n",
       "    .dataframe thead th {\n",
       "        text-align: right;\n",
       "    }\n",
       "</style>\n",
       "<table border=\"1\" class=\"dataframe\">\n",
       "  <thead>\n",
       "    <tr style=\"text-align: right;\">\n",
       "      <th></th>\n",
       "      <th>Pclass</th>\n",
       "      <th>Sex</th>\n",
       "      <th>Age</th>\n",
       "      <th>SibSp</th>\n",
       "      <th>Parch</th>\n",
       "      <th>Fare</th>\n",
       "      <th>Embarked</th>\n",
       "    </tr>\n",
       "  </thead>\n",
       "  <tbody>\n",
       "    <tr>\n",
       "      <th>0</th>\n",
       "      <td>3</td>\n",
       "      <td>0</td>\n",
       "      <td>34.50000</td>\n",
       "      <td>0</td>\n",
       "      <td>0</td>\n",
       "      <td>7.8292</td>\n",
       "      <td>2</td>\n",
       "    </tr>\n",
       "    <tr>\n",
       "      <th>1</th>\n",
       "      <td>3</td>\n",
       "      <td>1</td>\n",
       "      <td>47.00000</td>\n",
       "      <td>1</td>\n",
       "      <td>0</td>\n",
       "      <td>7.0000</td>\n",
       "      <td>0</td>\n",
       "    </tr>\n",
       "    <tr>\n",
       "      <th>2</th>\n",
       "      <td>2</td>\n",
       "      <td>0</td>\n",
       "      <td>62.00000</td>\n",
       "      <td>0</td>\n",
       "      <td>0</td>\n",
       "      <td>9.6875</td>\n",
       "      <td>2</td>\n",
       "    </tr>\n",
       "    <tr>\n",
       "      <th>3</th>\n",
       "      <td>3</td>\n",
       "      <td>0</td>\n",
       "      <td>27.00000</td>\n",
       "      <td>0</td>\n",
       "      <td>0</td>\n",
       "      <td>8.6625</td>\n",
       "      <td>0</td>\n",
       "    </tr>\n",
       "    <tr>\n",
       "      <th>4</th>\n",
       "      <td>3</td>\n",
       "      <td>1</td>\n",
       "      <td>22.00000</td>\n",
       "      <td>1</td>\n",
       "      <td>1</td>\n",
       "      <td>12.2875</td>\n",
       "      <td>0</td>\n",
       "    </tr>\n",
       "    <tr>\n",
       "      <th>...</th>\n",
       "      <td>...</td>\n",
       "      <td>...</td>\n",
       "      <td>...</td>\n",
       "      <td>...</td>\n",
       "      <td>...</td>\n",
       "      <td>...</td>\n",
       "      <td>...</td>\n",
       "    </tr>\n",
       "    <tr>\n",
       "      <th>413</th>\n",
       "      <td>3</td>\n",
       "      <td>0</td>\n",
       "      <td>30.27259</td>\n",
       "      <td>0</td>\n",
       "      <td>0</td>\n",
       "      <td>8.0500</td>\n",
       "      <td>0</td>\n",
       "    </tr>\n",
       "    <tr>\n",
       "      <th>414</th>\n",
       "      <td>1</td>\n",
       "      <td>1</td>\n",
       "      <td>39.00000</td>\n",
       "      <td>0</td>\n",
       "      <td>0</td>\n",
       "      <td>108.9000</td>\n",
       "      <td>1</td>\n",
       "    </tr>\n",
       "    <tr>\n",
       "      <th>415</th>\n",
       "      <td>3</td>\n",
       "      <td>0</td>\n",
       "      <td>38.50000</td>\n",
       "      <td>0</td>\n",
       "      <td>0</td>\n",
       "      <td>7.2500</td>\n",
       "      <td>0</td>\n",
       "    </tr>\n",
       "    <tr>\n",
       "      <th>416</th>\n",
       "      <td>3</td>\n",
       "      <td>0</td>\n",
       "      <td>30.27259</td>\n",
       "      <td>0</td>\n",
       "      <td>0</td>\n",
       "      <td>8.0500</td>\n",
       "      <td>0</td>\n",
       "    </tr>\n",
       "    <tr>\n",
       "      <th>417</th>\n",
       "      <td>3</td>\n",
       "      <td>0</td>\n",
       "      <td>30.27259</td>\n",
       "      <td>1</td>\n",
       "      <td>1</td>\n",
       "      <td>22.3583</td>\n",
       "      <td>1</td>\n",
       "    </tr>\n",
       "  </tbody>\n",
       "</table>\n",
       "<p>418 rows × 7 columns</p>\n",
       "</div>"
      ],
      "text/plain": [
       "     Pclass  Sex       Age  SibSp  Parch      Fare  Embarked\n",
       "0         3    0  34.50000      0      0    7.8292         2\n",
       "1         3    1  47.00000      1      0    7.0000         0\n",
       "2         2    0  62.00000      0      0    9.6875         2\n",
       "3         3    0  27.00000      0      0    8.6625         0\n",
       "4         3    1  22.00000      1      1   12.2875         0\n",
       "..      ...  ...       ...    ...    ...       ...       ...\n",
       "413       3    0  30.27259      0      0    8.0500         0\n",
       "414       1    1  39.00000      0      0  108.9000         1\n",
       "415       3    0  38.50000      0      0    7.2500         0\n",
       "416       3    0  30.27259      0      0    8.0500         0\n",
       "417       3    0  30.27259      1      1   22.3583         1\n",
       "\n",
       "[418 rows x 7 columns]"
      ]
     },
     "execution_count": 50,
     "metadata": {},
     "output_type": "execute_result"
    }
   ],
   "source": [
    "#X=df.drop(columns=[\"PassengerId\",\"Survived\",\"Name\",\"Ticket\",\"Age Category\",\"FamilySize\",\"Name_pre\"])\n",
    "\n",
    "X=df.drop(columns=[\"PassengerId\",\"Survived\",\"Name\",\"Ticket\",\"Age Category\",\"FamilySize\"])\n",
    "Y=df[\"Survived\"]\n",
    "\n",
    "# Split the data into features (X) and target (Y)\n",
    "#X = df.drop(columns=[\"PassengerId\", \"Survived\", \"Name\", \"Ticket\", \"Age \" \"Name_pre\"])\n",
    "#Y = df[\"Survived\"]\n",
    "X"
   ]
  },
  {
   "cell_type": "code",
   "execution_count": null,
   "id": "df6878d8",
   "metadata": {
    "execution": {
     "iopub.execute_input": "2023-11-06T18:41:57.306228Z",
     "iopub.status.busy": "2023-11-06T18:41:57.305776Z",
     "iopub.status.idle": "2023-11-06T18:41:57.314280Z",
     "shell.execute_reply": "2023-11-06T18:41:57.312994Z"
    },
    "papermill": {
     "duration": 0.059344,
     "end_time": "2023-11-06T18:41:57.316914",
     "exception": false,
     "start_time": "2023-11-06T18:41:57.257570",
     "status": "completed"
    },
    "tags": []
   },
   "outputs": [],
   "source": [
    "X_train, X_test, Y_train, Y_test = train_test_split(X,Y, test_size=0.2, random_state=2)"
   ]
  },
  {
   "cell_type": "code",
   "execution_count": null,
   "id": "cc6b26f0",
   "metadata": {
    "execution": {
     "iopub.execute_input": "2023-11-06T18:41:57.409671Z",
     "iopub.status.busy": "2023-11-06T18:41:57.409286Z",
     "iopub.status.idle": "2023-11-06T18:41:57.415894Z",
     "shell.execute_reply": "2023-11-06T18:41:57.414539Z"
    },
    "papermill": {
     "duration": 0.055865,
     "end_time": "2023-11-06T18:41:57.418263",
     "exception": false,
     "start_time": "2023-11-06T18:41:57.362398",
     "status": "completed"
    },
    "tags": []
   },
   "outputs": [
    {
     "name": "stdout",
     "output_type": "stream",
     "text": [
      "(418, 7) (334, 7) (84, 7)\n"
     ]
    }
   ],
   "source": [
    "print(X.shape, X_train.shape, X_test.shape)"
   ]
  },
  {
   "cell_type": "code",
   "execution_count": null,
   "id": "ba6f3fc9",
   "metadata": {
    "execution": {
     "iopub.execute_input": "2023-11-06T18:41:57.512970Z",
     "iopub.status.busy": "2023-11-06T18:41:57.512548Z",
     "iopub.status.idle": "2023-11-06T18:41:57.517863Z",
     "shell.execute_reply": "2023-11-06T18:41:57.516853Z"
    },
    "papermill": {
     "duration": 0.055162,
     "end_time": "2023-11-06T18:41:57.520084",
     "exception": false,
     "start_time": "2023-11-06T18:41:57.464922",
     "status": "completed"
    },
    "tags": []
   },
   "outputs": [],
   "source": [
    "model = LogisticRegression()\n"
   ]
  },
  {
   "cell_type": "code",
   "execution_count": null,
   "id": "99eea555",
   "metadata": {
    "execution": {
     "iopub.execute_input": "2023-11-06T18:41:57.621485Z",
     "iopub.status.busy": "2023-11-06T18:41:57.621064Z",
     "iopub.status.idle": "2023-11-06T18:41:57.669869Z",
     "shell.execute_reply": "2023-11-06T18:41:57.668329Z"
    },
    "papermill": {
     "duration": 0.104435,
     "end_time": "2023-11-06T18:41:57.672564",
     "exception": false,
     "start_time": "2023-11-06T18:41:57.568129",
     "status": "completed"
    },
    "tags": []
   },
   "outputs": [
    {
     "name": "stderr",
     "output_type": "stream",
     "text": [
      "/opt/conda/lib/python3.10/site-packages/sklearn/linear_model/_logistic.py:458: ConvergenceWarning: lbfgs failed to converge (status=1):\n",
      "STOP: TOTAL NO. of ITERATIONS REACHED LIMIT.\n",
      "\n",
      "Increase the number of iterations (max_iter) or scale the data as shown in:\n",
      "    https://scikit-learn.org/stable/modules/preprocessing.html\n",
      "Please also refer to the documentation for alternative solver options:\n",
      "    https://scikit-learn.org/stable/modules/linear_model.html#logistic-regression\n",
      "  n_iter_i = _check_optimize_result(\n"
     ]
    },
    {
     "data": {
      "text/html": [
       "<style>#sk-container-id-1 {color: black;background-color: white;}#sk-container-id-1 pre{padding: 0;}#sk-container-id-1 div.sk-toggleable {background-color: white;}#sk-container-id-1 label.sk-toggleable__label {cursor: pointer;display: block;width: 100%;margin-bottom: 0;padding: 0.3em;box-sizing: border-box;text-align: center;}#sk-container-id-1 label.sk-toggleable__label-arrow:before {content: \"▸\";float: left;margin-right: 0.25em;color: #696969;}#sk-container-id-1 label.sk-toggleable__label-arrow:hover:before {color: black;}#sk-container-id-1 div.sk-estimator:hover label.sk-toggleable__label-arrow:before {color: black;}#sk-container-id-1 div.sk-toggleable__content {max-height: 0;max-width: 0;overflow: hidden;text-align: left;background-color: #f0f8ff;}#sk-container-id-1 div.sk-toggleable__content pre {margin: 0.2em;color: black;border-radius: 0.25em;background-color: #f0f8ff;}#sk-container-id-1 input.sk-toggleable__control:checked~div.sk-toggleable__content {max-height: 200px;max-width: 100%;overflow: auto;}#sk-container-id-1 input.sk-toggleable__control:checked~label.sk-toggleable__label-arrow:before {content: \"▾\";}#sk-container-id-1 div.sk-estimator input.sk-toggleable__control:checked~label.sk-toggleable__label {background-color: #d4ebff;}#sk-container-id-1 div.sk-label input.sk-toggleable__control:checked~label.sk-toggleable__label {background-color: #d4ebff;}#sk-container-id-1 input.sk-hidden--visually {border: 0;clip: rect(1px 1px 1px 1px);clip: rect(1px, 1px, 1px, 1px);height: 1px;margin: -1px;overflow: hidden;padding: 0;position: absolute;width: 1px;}#sk-container-id-1 div.sk-estimator {font-family: monospace;background-color: #f0f8ff;border: 1px dotted black;border-radius: 0.25em;box-sizing: border-box;margin-bottom: 0.5em;}#sk-container-id-1 div.sk-estimator:hover {background-color: #d4ebff;}#sk-container-id-1 div.sk-parallel-item::after {content: \"\";width: 100%;border-bottom: 1px solid gray;flex-grow: 1;}#sk-container-id-1 div.sk-label:hover label.sk-toggleable__label {background-color: #d4ebff;}#sk-container-id-1 div.sk-serial::before {content: \"\";position: absolute;border-left: 1px solid gray;box-sizing: border-box;top: 0;bottom: 0;left: 50%;z-index: 0;}#sk-container-id-1 div.sk-serial {display: flex;flex-direction: column;align-items: center;background-color: white;padding-right: 0.2em;padding-left: 0.2em;position: relative;}#sk-container-id-1 div.sk-item {position: relative;z-index: 1;}#sk-container-id-1 div.sk-parallel {display: flex;align-items: stretch;justify-content: center;background-color: white;position: relative;}#sk-container-id-1 div.sk-item::before, #sk-container-id-1 div.sk-parallel-item::before {content: \"\";position: absolute;border-left: 1px solid gray;box-sizing: border-box;top: 0;bottom: 0;left: 50%;z-index: -1;}#sk-container-id-1 div.sk-parallel-item {display: flex;flex-direction: column;z-index: 1;position: relative;background-color: white;}#sk-container-id-1 div.sk-parallel-item:first-child::after {align-self: flex-end;width: 50%;}#sk-container-id-1 div.sk-parallel-item:last-child::after {align-self: flex-start;width: 50%;}#sk-container-id-1 div.sk-parallel-item:only-child::after {width: 0;}#sk-container-id-1 div.sk-dashed-wrapped {border: 1px dashed gray;margin: 0 0.4em 0.5em 0.4em;box-sizing: border-box;padding-bottom: 0.4em;background-color: white;}#sk-container-id-1 div.sk-label label {font-family: monospace;font-weight: bold;display: inline-block;line-height: 1.2em;}#sk-container-id-1 div.sk-label-container {text-align: center;}#sk-container-id-1 div.sk-container {/* jupyter's `normalize.less` sets `[hidden] { display: none; }` but bootstrap.min.css set `[hidden] { display: none !important; }` so we also need the `!important` here to be able to override the default hidden behavior on the sphinx rendered scikit-learn.org. See: https://github.com/scikit-learn/scikit-learn/issues/21755 */display: inline-block !important;position: relative;}#sk-container-id-1 div.sk-text-repr-fallback {display: none;}</style><div id=\"sk-container-id-1\" class=\"sk-top-container\"><div class=\"sk-text-repr-fallback\"><pre>LogisticRegression()</pre><b>In a Jupyter environment, please rerun this cell to show the HTML representation or trust the notebook. <br />On GitHub, the HTML representation is unable to render, please try loading this page with nbviewer.org.</b></div><div class=\"sk-container\" hidden><div class=\"sk-item\"><div class=\"sk-estimator sk-toggleable\"><input class=\"sk-toggleable__control sk-hidden--visually\" id=\"sk-estimator-id-1\" type=\"checkbox\" checked><label for=\"sk-estimator-id-1\" class=\"sk-toggleable__label sk-toggleable__label-arrow\">LogisticRegression</label><div class=\"sk-toggleable__content\"><pre>LogisticRegression()</pre></div></div></div></div></div>"
      ],
      "text/plain": [
       "LogisticRegression()"
      ]
     },
     "execution_count": 54,
     "metadata": {},
     "output_type": "execute_result"
    }
   ],
   "source": [
    "model.fit(X_train, Y_train)"
   ]
  },
  {
   "cell_type": "code",
   "execution_count": null,
   "id": "8fba122c",
   "metadata": {
    "execution": {
     "iopub.execute_input": "2023-11-06T18:41:57.771195Z",
     "iopub.status.busy": "2023-11-06T18:41:57.769970Z",
     "iopub.status.idle": "2023-11-06T18:41:57.779577Z",
     "shell.execute_reply": "2023-11-06T18:41:57.778333Z"
    },
    "papermill": {
     "duration": 0.061289,
     "end_time": "2023-11-06T18:41:57.782022",
     "exception": false,
     "start_time": "2023-11-06T18:41:57.720733",
     "status": "completed"
    },
    "tags": []
   },
   "outputs": [
    {
     "data": {
      "text/html": [
       "<style>#sk-container-id-2 {color: black;background-color: white;}#sk-container-id-2 pre{padding: 0;}#sk-container-id-2 div.sk-toggleable {background-color: white;}#sk-container-id-2 label.sk-toggleable__label {cursor: pointer;display: block;width: 100%;margin-bottom: 0;padding: 0.3em;box-sizing: border-box;text-align: center;}#sk-container-id-2 label.sk-toggleable__label-arrow:before {content: \"▸\";float: left;margin-right: 0.25em;color: #696969;}#sk-container-id-2 label.sk-toggleable__label-arrow:hover:before {color: black;}#sk-container-id-2 div.sk-estimator:hover label.sk-toggleable__label-arrow:before {color: black;}#sk-container-id-2 div.sk-toggleable__content {max-height: 0;max-width: 0;overflow: hidden;text-align: left;background-color: #f0f8ff;}#sk-container-id-2 div.sk-toggleable__content pre {margin: 0.2em;color: black;border-radius: 0.25em;background-color: #f0f8ff;}#sk-container-id-2 input.sk-toggleable__control:checked~div.sk-toggleable__content {max-height: 200px;max-width: 100%;overflow: auto;}#sk-container-id-2 input.sk-toggleable__control:checked~label.sk-toggleable__label-arrow:before {content: \"▾\";}#sk-container-id-2 div.sk-estimator input.sk-toggleable__control:checked~label.sk-toggleable__label {background-color: #d4ebff;}#sk-container-id-2 div.sk-label input.sk-toggleable__control:checked~label.sk-toggleable__label {background-color: #d4ebff;}#sk-container-id-2 input.sk-hidden--visually {border: 0;clip: rect(1px 1px 1px 1px);clip: rect(1px, 1px, 1px, 1px);height: 1px;margin: -1px;overflow: hidden;padding: 0;position: absolute;width: 1px;}#sk-container-id-2 div.sk-estimator {font-family: monospace;background-color: #f0f8ff;border: 1px dotted black;border-radius: 0.25em;box-sizing: border-box;margin-bottom: 0.5em;}#sk-container-id-2 div.sk-estimator:hover {background-color: #d4ebff;}#sk-container-id-2 div.sk-parallel-item::after {content: \"\";width: 100%;border-bottom: 1px solid gray;flex-grow: 1;}#sk-container-id-2 div.sk-label:hover label.sk-toggleable__label {background-color: #d4ebff;}#sk-container-id-2 div.sk-serial::before {content: \"\";position: absolute;border-left: 1px solid gray;box-sizing: border-box;top: 0;bottom: 0;left: 50%;z-index: 0;}#sk-container-id-2 div.sk-serial {display: flex;flex-direction: column;align-items: center;background-color: white;padding-right: 0.2em;padding-left: 0.2em;position: relative;}#sk-container-id-2 div.sk-item {position: relative;z-index: 1;}#sk-container-id-2 div.sk-parallel {display: flex;align-items: stretch;justify-content: center;background-color: white;position: relative;}#sk-container-id-2 div.sk-item::before, #sk-container-id-2 div.sk-parallel-item::before {content: \"\";position: absolute;border-left: 1px solid gray;box-sizing: border-box;top: 0;bottom: 0;left: 50%;z-index: -1;}#sk-container-id-2 div.sk-parallel-item {display: flex;flex-direction: column;z-index: 1;position: relative;background-color: white;}#sk-container-id-2 div.sk-parallel-item:first-child::after {align-self: flex-end;width: 50%;}#sk-container-id-2 div.sk-parallel-item:last-child::after {align-self: flex-start;width: 50%;}#sk-container-id-2 div.sk-parallel-item:only-child::after {width: 0;}#sk-container-id-2 div.sk-dashed-wrapped {border: 1px dashed gray;margin: 0 0.4em 0.5em 0.4em;box-sizing: border-box;padding-bottom: 0.4em;background-color: white;}#sk-container-id-2 div.sk-label label {font-family: monospace;font-weight: bold;display: inline-block;line-height: 1.2em;}#sk-container-id-2 div.sk-label-container {text-align: center;}#sk-container-id-2 div.sk-container {/* jupyter's `normalize.less` sets `[hidden] { display: none; }` but bootstrap.min.css set `[hidden] { display: none !important; }` so we also need the `!important` here to be able to override the default hidden behavior on the sphinx rendered scikit-learn.org. See: https://github.com/scikit-learn/scikit-learn/issues/21755 */display: inline-block !important;position: relative;}#sk-container-id-2 div.sk-text-repr-fallback {display: none;}</style><div id=\"sk-container-id-2\" class=\"sk-top-container\"><div class=\"sk-text-repr-fallback\"><pre>LogisticRegression()</pre><b>In a Jupyter environment, please rerun this cell to show the HTML representation or trust the notebook. <br />On GitHub, the HTML representation is unable to render, please try loading this page with nbviewer.org.</b></div><div class=\"sk-container\" hidden><div class=\"sk-item\"><div class=\"sk-estimator sk-toggleable\"><input class=\"sk-toggleable__control sk-hidden--visually\" id=\"sk-estimator-id-2\" type=\"checkbox\" checked><label for=\"sk-estimator-id-2\" class=\"sk-toggleable__label sk-toggleable__label-arrow\">LogisticRegression</label><div class=\"sk-toggleable__content\"><pre>LogisticRegression()</pre></div></div></div></div></div>"
      ],
      "text/plain": [
       "LogisticRegression()"
      ]
     },
     "execution_count": 55,
     "metadata": {},
     "output_type": "execute_result"
    }
   ],
   "source": [
    "LogisticRegression()"
   ]
  },
  {
   "cell_type": "code",
   "execution_count": null,
   "id": "cc951633",
   "metadata": {
    "execution": {
     "iopub.execute_input": "2023-11-06T18:41:57.880218Z",
     "iopub.status.busy": "2023-11-06T18:41:57.879539Z",
     "iopub.status.idle": "2023-11-06T18:41:57.886777Z",
     "shell.execute_reply": "2023-11-06T18:41:57.885792Z"
    },
    "papermill": {
     "duration": 0.059742,
     "end_time": "2023-11-06T18:41:57.889538",
     "exception": false,
     "start_time": "2023-11-06T18:41:57.829796",
     "status": "completed"
    },
    "tags": []
   },
   "outputs": [],
   "source": [
    "X_train_prediction = model.predict(X_train)"
   ]
  },
  {
   "cell_type": "code",
   "execution_count": null,
   "id": "8101c5dd",
   "metadata": {
    "execution": {
     "iopub.execute_input": "2023-11-06T18:41:57.986640Z",
     "iopub.status.busy": "2023-11-06T18:41:57.985972Z",
     "iopub.status.idle": "2023-11-06T18:41:57.993691Z",
     "shell.execute_reply": "2023-11-06T18:41:57.992203Z"
    },
    "papermill": {
     "duration": 0.059667,
     "end_time": "2023-11-06T18:41:57.996179",
     "exception": false,
     "start_time": "2023-11-06T18:41:57.936512",
     "status": "completed"
    },
    "tags": []
   },
   "outputs": [
    {
     "name": "stdout",
     "output_type": "stream",
     "text": [
      "[1 1 0 0 1 1 0 0 0 1 0 0 1 0 0 0 1 0 1 0 1 0 1 1 0 0 0 0 0 1 0 0 0 0 0 0 0\n",
      " 1 1 1 0 0 0 1 0 0 0 1 0 1 0 0 0 0 0 0 0 0 1 0 0 0 1 0 0 1 0 1 0 1 1 1 0 1\n",
      " 0 1 0 0 0 0 0 0 0 0 0 0 0 1 1 0 1 1 0 1 0 0 0 0 0 0 0 1 0 1 1 1 0 1 0 1 0\n",
      " 1 1 0 0 0 0 1 1 0 1 0 0 1 1 0 1 0 0 0 0 0 0 1 0 0 1 0 0 1 0 0 1 0 1 1 0 0\n",
      " 0 0 1 1 1 0 0 1 1 0 1 1 0 0 0 0 0 0 0 1 1 0 0 1 1 1 1 0 1 0 0 0 0 1 0 1 1\n",
      " 1 0 1 0 0 0 1 0 0 0 1 0 1 0 0 0 0 0 0 0 1 1 1 1 0 0 0 0 1 0 0 1 0 0 1 0 0\n",
      " 1 0 1 0 0 0 0 0 1 0 0 0 1 1 0 0 0 1 1 0 1 0 0 0 0 0 1 0 0 0 0 0 1 0 0 0 1\n",
      " 0 1 1 1 1 0 0 0 1 1 0 0 1 0 1 1 0 0 0 0 1 0 0 0 0 0 1 0 0 1 1 0 1 1 0 0 0\n",
      " 0 0 0 0 1 0 0 0 0 0 1 0 1 0 0 0 0 0 0 0 0 0 1 0 0 0 1 1 0 1 1 0 0 0 1 1 1\n",
      " 1]\n"
     ]
    }
   ],
   "source": [
    "print(X_train_prediction)"
   ]
  },
  {
   "cell_type": "code",
   "execution_count": null,
   "id": "d2046b99",
   "metadata": {
    "execution": {
     "iopub.execute_input": "2023-11-06T18:41:58.094942Z",
     "iopub.status.busy": "2023-11-06T18:41:58.094233Z",
     "iopub.status.idle": "2023-11-06T18:41:58.103319Z",
     "shell.execute_reply": "2023-11-06T18:41:58.101761Z"
    },
    "papermill": {
     "duration": 0.062435,
     "end_time": "2023-11-06T18:41:58.106327",
     "exception": false,
     "start_time": "2023-11-06T18:41:58.043892",
     "status": "completed"
    },
    "tags": []
   },
   "outputs": [
    {
     "name": "stdout",
     "output_type": "stream",
     "text": [
      "Accuracy score of training data :  1.0\n"
     ]
    }
   ],
   "source": [
    "training_data_accuracy = accuracy_score(Y_train, X_train_prediction)\n",
    "print('Accuracy score of training data : ', training_data_accuracy)"
   ]
  },
  {
   "cell_type": "code",
   "execution_count": null,
   "id": "2fa25789",
   "metadata": {
    "execution": {
     "iopub.execute_input": "2023-11-06T18:41:58.210658Z",
     "iopub.status.busy": "2023-11-06T18:41:58.209499Z",
     "iopub.status.idle": "2023-11-06T18:41:58.218197Z",
     "shell.execute_reply": "2023-11-06T18:41:58.217018Z"
    },
    "papermill": {
     "duration": 0.060845,
     "end_time": "2023-11-06T18:41:58.221253",
     "exception": false,
     "start_time": "2023-11-06T18:41:58.160408",
     "status": "completed"
    },
    "tags": []
   },
   "outputs": [],
   "source": [
    "# accuracy on test data\n",
    "X_test_prediction = model.predict(X_test)"
   ]
  },
  {
   "cell_type": "code",
   "execution_count": null,
   "id": "751b4ac1",
   "metadata": {
    "execution": {
     "iopub.execute_input": "2023-11-06T18:41:58.318107Z",
     "iopub.status.busy": "2023-11-06T18:41:58.317132Z",
     "iopub.status.idle": "2023-11-06T18:41:58.324266Z",
     "shell.execute_reply": "2023-11-06T18:41:58.322867Z"
    },
    "papermill": {
     "duration": 0.058114,
     "end_time": "2023-11-06T18:41:58.326795",
     "exception": false,
     "start_time": "2023-11-06T18:41:58.268681",
     "status": "completed"
    },
    "tags": []
   },
   "outputs": [
    {
     "name": "stdout",
     "output_type": "stream",
     "text": [
      "[0 0 0 1 1 0 1 0 0 1 0 1 1 0 1 0 0 0 0 0 0 0 0 0 1 1 0 1 0 0 1 1 0 1 0 0 1\n",
      " 1 0 0 0 0 1 1 0 0 1 0 1 0 0 0 1 1 1 0 0 1 0 0 0 0 0 0 1 0 1 1 1 1 1 1 0 0\n",
      " 0 1 1 0 1 0 0 0 0 0]\n"
     ]
    }
   ],
   "source": [
    "print(X_test_prediction)"
   ]
  },
  {
   "cell_type": "code",
   "execution_count": null,
   "id": "16519b94",
   "metadata": {
    "execution": {
     "iopub.execute_input": "2023-11-06T18:41:58.424282Z",
     "iopub.status.busy": "2023-11-06T18:41:58.423132Z",
     "iopub.status.idle": "2023-11-06T18:41:58.430481Z",
     "shell.execute_reply": "2023-11-06T18:41:58.429212Z"
    },
    "papermill": {
     "duration": 0.058266,
     "end_time": "2023-11-06T18:41:58.433088",
     "exception": false,
     "start_time": "2023-11-06T18:41:58.374822",
     "status": "completed"
    },
    "tags": []
   },
   "outputs": [
    {
     "name": "stdout",
     "output_type": "stream",
     "text": [
      "Accuracy score of test data :  1.0\n"
     ]
    }
   ],
   "source": [
    "test_data_accuracy = accuracy_score(Y_test, X_test_prediction)\n",
    "print('Accuracy score of test data : ', test_data_accuracy)"
   ]
  },
  {
   "cell_type": "code",
   "execution_count": null,
   "id": "549365b3",
   "metadata": {
    "execution": {
     "iopub.execute_input": "2023-11-06T18:41:58.532140Z",
     "iopub.status.busy": "2023-11-06T18:41:58.531357Z",
     "iopub.status.idle": "2023-11-06T18:41:58.545827Z",
     "shell.execute_reply": "2023-11-06T18:41:58.544543Z"
    },
    "papermill": {
     "duration": 0.06793,
     "end_time": "2023-11-06T18:41:58.548316",
     "exception": false,
     "start_time": "2023-11-06T18:41:58.480386",
     "status": "completed"
    },
    "tags": []
   },
   "outputs": [
    {
     "data": {
      "text/html": [
       "<div>\n",
       "<style scoped>\n",
       "    .dataframe tbody tr th:only-of-type {\n",
       "        vertical-align: middle;\n",
       "    }\n",
       "\n",
       "    .dataframe tbody tr th {\n",
       "        vertical-align: top;\n",
       "    }\n",
       "\n",
       "    .dataframe thead th {\n",
       "        text-align: right;\n",
       "    }\n",
       "</style>\n",
       "<table border=\"1\" class=\"dataframe\">\n",
       "  <thead>\n",
       "    <tr style=\"text-align: right;\">\n",
       "      <th></th>\n",
       "      <th>Pclass</th>\n",
       "      <th>Sex</th>\n",
       "      <th>Age</th>\n",
       "      <th>SibSp</th>\n",
       "      <th>Parch</th>\n",
       "      <th>Fare</th>\n",
       "      <th>Embarked</th>\n",
       "    </tr>\n",
       "  </thead>\n",
       "  <tbody>\n",
       "    <tr>\n",
       "      <th>0</th>\n",
       "      <td>3</td>\n",
       "      <td>0</td>\n",
       "      <td>34.5</td>\n",
       "      <td>0</td>\n",
       "      <td>0</td>\n",
       "      <td>7.8292</td>\n",
       "      <td>2</td>\n",
       "    </tr>\n",
       "    <tr>\n",
       "      <th>1</th>\n",
       "      <td>3</td>\n",
       "      <td>1</td>\n",
       "      <td>47.0</td>\n",
       "      <td>1</td>\n",
       "      <td>0</td>\n",
       "      <td>7.0000</td>\n",
       "      <td>0</td>\n",
       "    </tr>\n",
       "    <tr>\n",
       "      <th>2</th>\n",
       "      <td>2</td>\n",
       "      <td>0</td>\n",
       "      <td>62.0</td>\n",
       "      <td>0</td>\n",
       "      <td>0</td>\n",
       "      <td>9.6875</td>\n",
       "      <td>2</td>\n",
       "    </tr>\n",
       "    <tr>\n",
       "      <th>3</th>\n",
       "      <td>3</td>\n",
       "      <td>0</td>\n",
       "      <td>27.0</td>\n",
       "      <td>0</td>\n",
       "      <td>0</td>\n",
       "      <td>8.6625</td>\n",
       "      <td>0</td>\n",
       "    </tr>\n",
       "    <tr>\n",
       "      <th>4</th>\n",
       "      <td>3</td>\n",
       "      <td>1</td>\n",
       "      <td>22.0</td>\n",
       "      <td>1</td>\n",
       "      <td>1</td>\n",
       "      <td>12.2875</td>\n",
       "      <td>0</td>\n",
       "    </tr>\n",
       "  </tbody>\n",
       "</table>\n",
       "</div>"
      ],
      "text/plain": [
       "   Pclass  Sex   Age  SibSp  Parch     Fare  Embarked\n",
       "0       3    0  34.5      0      0   7.8292         2\n",
       "1       3    1  47.0      1      0   7.0000         0\n",
       "2       2    0  62.0      0      0   9.6875         2\n",
       "3       3    0  27.0      0      0   8.6625         0\n",
       "4       3    1  22.0      1      1  12.2875         0"
      ]
     },
     "execution_count": 62,
     "metadata": {},
     "output_type": "execute_result"
    }
   ],
   "source": [
    "X.head()"
   ]
  },
  {
   "cell_type": "markdown",
   "id": "5632b8a5",
   "metadata": {
    "papermill": {
     "duration": 0.048146,
     "end_time": "2023-11-06T18:41:58.642709",
     "exception": false,
     "start_time": "2023-11-06T18:41:58.594563",
     "status": "completed"
    },
    "tags": []
   },
   "source": [
    "# Let's try to predict"
   ]
  },
  {
   "cell_type": "code",
   "execution_count": null,
   "id": "2c413335",
   "metadata": {
    "execution": {
     "iopub.execute_input": "2023-11-06T18:41:58.738601Z",
     "iopub.status.busy": "2023-11-06T18:41:58.737836Z",
     "iopub.status.idle": "2023-11-06T18:41:58.753250Z",
     "shell.execute_reply": "2023-11-06T18:41:58.752008Z"
    },
    "papermill": {
     "duration": 0.066855,
     "end_time": "2023-11-06T18:41:58.755797",
     "exception": false,
     "start_time": "2023-11-06T18:41:58.688942",
     "status": "completed"
    },
    "tags": []
   },
   "outputs": [
    {
     "data": {
      "text/html": [
       "<div>\n",
       "<style scoped>\n",
       "    .dataframe tbody tr th:only-of-type {\n",
       "        vertical-align: middle;\n",
       "    }\n",
       "\n",
       "    .dataframe tbody tr th {\n",
       "        vertical-align: top;\n",
       "    }\n",
       "\n",
       "    .dataframe thead th {\n",
       "        text-align: right;\n",
       "    }\n",
       "</style>\n",
       "<table border=\"1\" class=\"dataframe\">\n",
       "  <thead>\n",
       "    <tr style=\"text-align: right;\">\n",
       "      <th></th>\n",
       "      <th>Pclass</th>\n",
       "      <th>Sex</th>\n",
       "      <th>Age</th>\n",
       "      <th>SibSp</th>\n",
       "      <th>Parch</th>\n",
       "      <th>Fare</th>\n",
       "      <th>Embarked</th>\n",
       "    </tr>\n",
       "  </thead>\n",
       "  <tbody>\n",
       "    <tr>\n",
       "      <th>0</th>\n",
       "      <td>1</td>\n",
       "      <td>1</td>\n",
       "      <td>32.0</td>\n",
       "      <td>2</td>\n",
       "      <td>1</td>\n",
       "      <td>7.925</td>\n",
       "      <td>1</td>\n",
       "    </tr>\n",
       "  </tbody>\n",
       "</table>\n",
       "</div>"
      ],
      "text/plain": [
       "   Pclass  Sex   Age  SibSp  Parch   Fare  Embarked\n",
       "0       1    1  32.0      2      1  7.925         1"
      ]
     },
     "execution_count": 63,
     "metadata": {},
     "output_type": "execute_result"
    }
   ],
   "source": [
    "data={\"Pclass\":1,\"Sex\":1,\"Age\":32.0,\"SibSp\":2,\"Parch\":1,\"Fare\":7.9250,\"Embarked\":1}\n",
    "new_df2=pd.DataFrame(data,index=[0])\n",
    "new_df2"
   ]
  },
  {
   "cell_type": "code",
   "execution_count": null,
   "id": "bdd0ee03",
   "metadata": {
    "execution": {
     "iopub.execute_input": "2023-11-06T18:41:58.853145Z",
     "iopub.status.busy": "2023-11-06T18:41:58.852474Z",
     "iopub.status.idle": "2023-11-06T18:41:58.861354Z",
     "shell.execute_reply": "2023-11-06T18:41:58.859888Z"
    },
    "papermill": {
     "duration": 0.060971,
     "end_time": "2023-11-06T18:41:58.864019",
     "exception": false,
     "start_time": "2023-11-06T18:41:58.803048",
     "status": "completed"
    },
    "tags": []
   },
   "outputs": [
    {
     "name": "stdout",
     "output_type": "stream",
     "text": [
      "This Person is Survived\n"
     ]
    }
   ],
   "source": [
    "predi=model.predict(new_df2)\n",
    "if predi==1:\n",
    "    print(\"This Person is Survived\")\n",
    "else:\n",
    "    print(\"This person is Not Survived\")"
   ]
  },
  {
   "cell_type": "markdown",
   "id": "ff98d592",
   "metadata": {
    "papermill": {
     "duration": 0.050281,
     "end_time": "2023-11-06T18:41:58.965794",
     "exception": false,
     "start_time": "2023-11-06T18:41:58.915513",
     "status": "completed"
    },
    "tags": []
   },
   "source": [
    "\n",
    "\n",
    "# Thank You"
   ]
  }
 ],
 "metadata": {
  "kernelspec": {
   "display_name": "Python 3",
   "language": "python",
   "name": "python3"
  },
  "language_info": {
   "codemirror_mode": {
    "name": "ipython",
    "version": 3
   },
   "file_extension": ".py",
   "mimetype": "text/x-python",
   "name": "python",
   "nbconvert_exporter": "python",
   "pygments_lexer": "ipython3",
   "version": "3.10.5"
  },
  "papermill": {
   "default_parameters": {},
   "duration": 39.292711,
   "end_time": "2023-11-06T18:42:00.345729",
   "environment_variables": {},
   "exception": null,
   "input_path": "__notebook__.ipynb",
   "output_path": "__notebook__.ipynb",
   "parameters": {},
   "start_time": "2023-11-06T18:41:21.053018",
   "version": "2.4.0"
  }
 },
 "nbformat": 4,
 "nbformat_minor": 5
}
